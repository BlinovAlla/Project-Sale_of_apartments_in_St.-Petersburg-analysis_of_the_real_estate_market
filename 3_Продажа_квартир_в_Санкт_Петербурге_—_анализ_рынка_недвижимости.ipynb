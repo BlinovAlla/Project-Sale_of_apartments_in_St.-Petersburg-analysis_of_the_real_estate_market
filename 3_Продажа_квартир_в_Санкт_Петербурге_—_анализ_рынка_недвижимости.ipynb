{
  "nbformat": 4,
  "nbformat_minor": 0,
  "metadata": {
    "colab": {
      "provenance": [],
      "collapsed_sections": [],
      "toc_visible": true
    },
    "kernelspec": {
      "name": "python3",
      "display_name": "Python 3"
    },
    "language_info": {
      "name": "python"
    }
  },
  "cells": [
    {
      "cell_type": "markdown",
      "source": [
        "**Название проекта:**\n",
        "\n",
        "Продажа квартир в Санкт-Петербурге — анализ рынка недвижимости"
      ],
      "metadata": {
        "id": "bcGGD52m0ReQ"
      }
    },
    {
      "cell_type": "markdown",
      "source": [
        "**Цель исследования:**\n",
        "\n",
        "Поиск особенностей и зависимостей, которые существуют на рынке недвижимости\n",
        "- исследование параметров объектов недвижимости таких как общая площадь, количество комнат, этажность, расстояние до центра или аэропорта и др.\n",
        "- исследование зависимости между параметрами объекта и его конечной стоимостью"
      ],
      "metadata": {
        "id": "IbPdrcLs0RyU"
      }
    },
    {
      "cell_type": "markdown",
      "source": [
        "**Ход исследования**\n",
        "1. Загрузка данных и подготовка их к анализу\n",
        "- Обзор данных\n",
        "- Предобработка данных\n",
        "\n",
        "2. Исследовательский анализ данных\n",
        "- Исследование параметров объектов\n",
        "- Исследование количества дней продажи объекта недвижимости\n",
        "- Исследование факторов, влияющих на полную стоимость квартиры\n",
        "\n",
        "3. Вывод"
      ],
      "metadata": {
        "id": "D3TUwVSr0SAo"
      }
    },
    {
      "cell_type": "markdown",
      "source": [
        "**Описание проекта**\n",
        "\n",
        "В нашем распоряжении данные сервиса Яндекс Недвижимость — архив объявлений за несколько лет о продаже квартир в Санкт-Петербурге и соседних населённых пунктах.\n",
        "\n",
        "О каждой квартире в базе содержится два типа данных: добавленные пользователем и картографические. Например, к первому типу относятся площадь квартиры, её этаж и количество балконов, ко второму — расстояния до центра города, аэропорта и ближайшего парка."
      ],
      "metadata": {
        "id": "7hcNJftD9vG2"
      }
    },
    {
      "cell_type": "markdown",
      "source": [
        "**Описание данных**\n",
        "- airports_nearest — расстояние до ближайшего аэропорта в метрах (м)\n",
        "- balcony — число балконов\n",
        "- ceiling_height — высота потолков (м)\n",
        "- cityCenters_nearest — расстояние до центра города (м)\n",
        "- days_exposition — сколько дней было размещено объявление (от публикации до снятия)\n",
        "- first_day_exposition — дата публикации\n",
        "- floor — этаж\n",
        "- floors_total — всего этажей в доме\n",
        "- is_apartment — апартаменты (булев тип)\n",
        "- kitchen_area — площадь кухни в квадратных метрах (м²)\n",
        "- last_price — цена на момент снятия с публикации\n",
        "- living_area — жилая площадь в квадратных метрах (м²)\n",
        "- locality_name — название населённого пункта\n",
        "- open_plan — свободная планировка (булев тип)\n",
        "- parks_around3000 — число парков в радиусе 3 км\n",
        "- parks_nearest — расстояние до ближайшего парка (м)\n",
        "- ponds_around3000 — число водоёмов в радиусе 3 км\n",
        "- ponds_nearest — расстояние до ближайшего водоёма (м)\n",
        "- rooms — число комнат\n",
        "- studio — квартира-студия (булев тип)\n",
        "- total_area — общая площадь квартиры в квадратных метрах (м²)\n",
        "- total_images — число фотографий квартиры в объявлении"
      ],
      "metadata": {
        "id": "c1GQtxL-hby5"
      }
    },
    {
      "cell_type": "markdown",
      "source": [
        "# 1. Загрузка данных и подготовка их к анализу"
      ],
      "metadata": {
        "id": "ncV1sz1f-F6u"
      }
    },
    {
      "cell_type": "markdown",
      "source": [
        "## 1.1. Обзор данных"
      ],
      "metadata": {
        "id": "w19WrUxohcCB"
      }
    },
    {
      "cell_type": "code",
      "source": [
        "# импортируем библиотеки\n",
        "import pandas as pd\n",
        "import matplotlib.pyplot as plt"
      ],
      "metadata": {
        "id": "gD57Em1P0oA_"
      },
      "execution_count": null,
      "outputs": []
    },
    {
      "cell_type": "code",
      "source": [
        "# откроем файл\n",
        "df = pd.read_csv('/content/drive/MyDrive/ЯПрактикум - АЛЛА/Спринт 3. Исследовательский анализ данных/real_estate_data.csv', sep='\\t')"
      ],
      "metadata": {
        "id": "0Rzb1sI50rE8"
      },
      "execution_count": null,
      "outputs": []
    },
    {
      "cell_type": "code",
      "source": [
        "# изучим информацию и построим гистограммы\n",
        "df.info()\n",
        "df.hist(figsize=(15, 20))\n",
        "plt.show()"
      ],
      "metadata": {
        "colab": {
          "base_uri": "https://localhost:8080/",
          "height": 1000
        },
        "id": "IpGX-Q3I1DkN",
        "outputId": "12852743-5286-4cd3-b5ed-466a9ef2cfc8"
      },
      "execution_count": null,
      "outputs": [
        {
          "output_type": "stream",
          "name": "stdout",
          "text": [
            "<class 'pandas.core.frame.DataFrame'>\n",
            "RangeIndex: 23699 entries, 0 to 23698\n",
            "Data columns (total 22 columns):\n",
            " #   Column                Non-Null Count  Dtype  \n",
            "---  ------                --------------  -----  \n",
            " 0   total_images          23699 non-null  int64  \n",
            " 1   last_price            23699 non-null  float64\n",
            " 2   total_area            23699 non-null  float64\n",
            " 3   first_day_exposition  23699 non-null  object \n",
            " 4   rooms                 23699 non-null  int64  \n",
            " 5   ceiling_height        14504 non-null  float64\n",
            " 6   floors_total          23613 non-null  float64\n",
            " 7   living_area           21796 non-null  float64\n",
            " 8   floor                 23699 non-null  int64  \n",
            " 9   is_apartment          2775 non-null   object \n",
            " 10  studio                23699 non-null  bool   \n",
            " 11  open_plan             23699 non-null  bool   \n",
            " 12  kitchen_area          21421 non-null  float64\n",
            " 13  balcony               12180 non-null  float64\n",
            " 14  locality_name         23650 non-null  object \n",
            " 15  airports_nearest      18157 non-null  float64\n",
            " 16  cityCenters_nearest   18180 non-null  float64\n",
            " 17  parks_around3000      18181 non-null  float64\n",
            " 18  parks_nearest         8079 non-null   float64\n",
            " 19  ponds_around3000      18181 non-null  float64\n",
            " 20  ponds_nearest         9110 non-null   float64\n",
            " 21  days_exposition       20518 non-null  float64\n",
            "dtypes: bool(2), float64(14), int64(3), object(3)\n",
            "memory usage: 3.7+ MB\n"
          ]
        },
        {
          "output_type": "display_data",
          "data": {
            "text/plain": [
              "<Figure size 1080x1440 with 20 Axes>"
            ],
            "image/png": "[encoded data removed]"
          },
          "metadata": {
            "needs_background": "light"
          }
        }
      ]
    },
    {
      "cell_type": "code",
      "source": [
        "# выведем на экран все столбцы\n",
        "pd.options.display.max_columns = 100\n",
        "df.head()"
      ],
      "metadata": {
        "colab": {
          "base_uri": "https://localhost:8080/",
          "height": 357
        },
        "id": "jHEl-8GM1SJm",
        "outputId": "21049e4a-f3a0-4e4e-91f0-460f7e69ad2f"
      },
      "execution_count": null,
      "outputs": [
        {
          "output_type": "execute_result",
          "data": {
            "text/plain": [
              "   total_images  last_price  total_area first_day_exposition  rooms  \\\n",
              "0            20  13000000.0       108.0  2019-03-07T00:00:00      3   \n",
              "1             7   3350000.0        40.4  2018-12-04T00:00:00      1   \n",
              "2            10   5196000.0        56.0  2015-08-20T00:00:00      2   \n",
              "3             0  64900000.0       159.0  2015-07-24T00:00:00      3   \n",
              "4             2  10000000.0       100.0  2018-06-19T00:00:00      2   \n",
              "\n",
              "   ceiling_height  floors_total  living_area  floor is_apartment  studio  \\\n",
              "0            2.70          16.0         51.0      8          NaN   False   \n",
              "1             NaN          11.0         18.6      1          NaN   False   \n",
              "2             NaN           5.0         34.3      4          NaN   False   \n",
              "3             NaN          14.0          NaN      9          NaN   False   \n",
              "4            3.03          14.0         32.0     13          NaN   False   \n",
              "\n",
              "   open_plan  kitchen_area  balcony    locality_name  airports_nearest  \\\n",
              "0      False          25.0      NaN  Санкт-Петербург           18863.0   \n",
              "1      False          11.0      2.0   посёлок Шушары           12817.0   \n",
              "2      False           8.3      0.0  Санкт-Петербург           21741.0   \n",
              "3      False           NaN      0.0  Санкт-Петербург           28098.0   \n",
              "4      False          41.0      NaN  Санкт-Петербург           31856.0   \n",
              "\n",
              "   cityCenters_nearest  parks_around3000  parks_nearest  ponds_around3000  \\\n",
              "0              16028.0               1.0          482.0               2.0   \n",
              "1              18603.0               0.0            NaN               0.0   \n",
              "2              13933.0               1.0           90.0               2.0   \n",
              "3               6800.0               2.0           84.0               3.0   \n",
              "4               8098.0               2.0          112.0               1.0   \n",
              "\n",
              "   ponds_nearest  days_exposition  \n",
              "0          755.0              NaN  \n",
              "1            NaN             81.0  \n",
              "2          574.0            558.0  \n",
              "3          234.0            424.0  \n",
              "4           48.0            121.0  "
            ],
            "text/html": [
              "\n",
              "  <div id=\"df-f5008f0c-12e0-4ea2-aa92-b84d615c85c7\">\n",
              "    <div class=\"colab-df-container\">\n",
              "      <div>\n",
              "<style scoped>\n",
              "    .dataframe tbody tr th:only-of-type {\n",
              "        vertical-align: middle;\n",
              "    }\n",
              "\n",
              "    .dataframe tbody tr th {\n",
              "        vertical-align: top;\n",
              "    }\n",
              "\n",
              "    .dataframe thead th {\n",
              "        text-align: right;\n",
              "    }\n",
              "</style>\n",
              "<table border=\"1\" class=\"dataframe\">\n",
              "  <thead>\n",
              "    <tr style=\"text-align: right;\">\n",
              "      <th></th>\n",
              "      <th>total_images</th>\n",
              "      <th>last_price</th>\n",
              "      <th>total_area</th>\n",
              "      <th>first_day_exposition</th>\n",
              "      <th>rooms</th>\n",
              "      <th>ceiling_height</th>\n",
              "      <th>floors_total</th>\n",
              "      <th>living_area</th>\n",
              "      <th>floor</th>\n",
              "      <th>is_apartment</th>\n",
              "      <th>studio</th>\n",
              "      <th>open_plan</th>\n",
              "      <th>kitchen_area</th>\n",
              "      <th>balcony</th>\n",
              "      <th>locality_name</th>\n",
              "      <th>airports_nearest</th>\n",
              "      <th>cityCenters_nearest</th>\n",
              "      <th>parks_around3000</th>\n",
              "      <th>parks_nearest</th>\n",
              "      <th>ponds_around3000</th>\n",
              "      <th>ponds_nearest</th>\n",
              "      <th>days_exposition</th>\n",
              "    </tr>\n",
              "  </thead>\n",
              "  <tbody>\n",
              "    <tr>\n",
              "      <th>0</th>\n",
              "      <td>20</td>\n",
              "      <td>13000000.0</td>\n",
              "      <td>108.0</td>\n",
              "      <td>2019-03-07T00:00:00</td>\n",
              "      <td>3</td>\n",
              "      <td>2.70</td>\n",
              "      <td>16.0</td>\n",
              "      <td>51.0</td>\n",
              "      <td>8</td>\n",
              "      <td>NaN</td>\n",
              "      <td>False</td>\n",
              "      <td>False</td>\n",
              "      <td>25.0</td>\n",
              "      <td>NaN</td>\n",
              "      <td>Санкт-Петербург</td>\n",
              "      <td>18863.0</td>\n",
              "      <td>16028.0</td>\n",
              "      <td>1.0</td>\n",
              "      <td>482.0</td>\n",
              "      <td>2.0</td>\n",
              "      <td>755.0</td>\n",
              "      <td>NaN</td>\n",
              "    </tr>\n",
              "    <tr>\n",
              "      <th>1</th>\n",
              "      <td>7</td>\n",
              "      <td>3350000.0</td>\n",
              "      <td>40.4</td>\n",
              "      <td>2018-12-04T00:00:00</td>\n",
              "      <td>1</td>\n",
              "      <td>NaN</td>\n",
              "      <td>11.0</td>\n",
              "      <td>18.6</td>\n",
              "      <td>1</td>\n",
              "      <td>NaN</td>\n",
              "      <td>False</td>\n",
              "      <td>False</td>\n",
              "      <td>11.0</td>\n",
              "      <td>2.0</td>\n",
              "      <td>посёлок Шушары</td>\n",
              "      <td>12817.0</td>\n",
              "      <td>18603.0</td>\n",
              "      <td>0.0</td>\n",
              "      <td>NaN</td>\n",
              "      <td>0.0</td>\n",
              "      <td>NaN</td>\n",
              "      <td>81.0</td>\n",
              "    </tr>\n",
              "    <tr>\n",
              "      <th>2</th>\n",
              "      <td>10</td>\n",
              "      <td>5196000.0</td>\n",
              "      <td>56.0</td>\n",
              "      <td>2015-08-20T00:00:00</td>\n",
              "      <td>2</td>\n",
              "      <td>NaN</td>\n",
              "      <td>5.0</td>\n",
              "      <td>34.3</td>\n",
              "      <td>4</td>\n",
              "      <td>NaN</td>\n",
              "      <td>False</td>\n",
              "      <td>False</td>\n",
              "      <td>8.3</td>\n",
              "      <td>0.0</td>\n",
              "      <td>Санкт-Петербург</td>\n",
              "      <td>21741.0</td>\n",
              "      <td>13933.0</td>\n",
              "      <td>1.0</td>\n",
              "      <td>90.0</td>\n",
              "      <td>2.0</td>\n",
              "      <td>574.0</td>\n",
              "      <td>558.0</td>\n",
              "    </tr>\n",
              "    <tr>\n",
              "      <th>3</th>\n",
              "      <td>0</td>\n",
              "      <td>64900000.0</td>\n",
              "      <td>159.0</td>\n",
              "      <td>2015-07-24T00:00:00</td>\n",
              "      <td>3</td>\n",
              "      <td>NaN</td>\n",
              "      <td>14.0</td>\n",
              "      <td>NaN</td>\n",
              "      <td>9</td>\n",
              "      <td>NaN</td>\n",
              "      <td>False</td>\n",
              "      <td>False</td>\n",
              "      <td>NaN</td>\n",
              "      <td>0.0</td>\n",
              "      <td>Санкт-Петербург</td>\n",
              "      <td>28098.0</td>\n",
              "      <td>6800.0</td>\n",
              "      <td>2.0</td>\n",
              "      <td>84.0</td>\n",
              "      <td>3.0</td>\n",
              "      <td>234.0</td>\n",
              "      <td>424.0</td>\n",
              "    </tr>\n",
              "    <tr>\n",
              "      <th>4</th>\n",
              "      <td>2</td>\n",
              "      <td>10000000.0</td>\n",
              "      <td>100.0</td>\n",
              "      <td>2018-06-19T00:00:00</td>\n",
              "      <td>2</td>\n",
              "      <td>3.03</td>\n",
              "      <td>14.0</td>\n",
              "      <td>32.0</td>\n",
              "      <td>13</td>\n",
              "      <td>NaN</td>\n",
              "      <td>False</td>\n",
              "      <td>False</td>\n",
              "      <td>41.0</td>\n",
              "      <td>NaN</td>\n",
              "      <td>Санкт-Петербург</td>\n",
              "      <td>31856.0</td>\n",
              "      <td>8098.0</td>\n",
              "      <td>2.0</td>\n",
              "      <td>112.0</td>\n",
              "      <td>1.0</td>\n",
              "      <td>48.0</td>\n",
              "      <td>121.0</td>\n",
              "    </tr>\n",
              "  </tbody>\n",
              "</table>\n",
              "</div>\n",
              "      <button class=\"colab-df-convert\" onclick=\"convertToInteractive('df-f5008f0c-12e0-4ea2-aa92-b84d615c85c7')\"\n",
              "              title=\"Convert this dataframe to an interactive table.\"\n",
              "              style=\"display:none;\">\n",
              "        \n",
              "  <svg xmlns=\"http://www.w3.org/2000/svg\" height=\"24px\"viewBox=\"0 0 24 24\"\n",
              "       width=\"24px\">\n",
              "    <path d=\"M0 0h24v24H0V0z\" fill=\"none\"/>\n",
              "    <path d=\"M18.56 5.44l.94 2.06.94-2.06 2.06-.94-2.06-.94-.94-2.06-.94 2.06-2.06.94zm-11 1L8.5 8.5l.94-2.06 2.06-.94-2.06-.94L8.5 2.5l-.94 2.06-2.06.94zm10 10l.94 2.06.94-2.06 2.06-.94-2.06-.94-.94-2.06-.94 2.06-2.06.94z\"/><path d=\"M17.41 7.96l-1.37-1.37c-.4-.4-.92-.59-1.43-.59-.52 0-1.04.2-1.43.59L10.3 9.45l-7.72 7.72c-.78.78-.78 2.05 0 2.83L4 21.41c.39.39.9.59 1.41.59.51 0 1.02-.2 1.41-.59l7.78-7.78 2.81-2.81c.8-.78.8-2.07 0-2.86zM5.41 20L4 18.59l7.72-7.72 1.47 1.35L5.41 20z\"/>\n",
              "  </svg>\n",
              "      </button>\n",
              "      \n",
              "  <style>\n",
              "    .colab-df-container {\n",
              "      display:flex;\n",
              "      flex-wrap:wrap;\n",
              "      gap: 12px;\n",
              "    }\n",
              "\n",
              "    .colab-df-convert {\n",
              "      background-color: #E8F0FE;\n",
              "      border: none;\n",
              "      border-radius: 50%;\n",
              "      cursor: pointer;\n",
              "      display: none;\n",
              "      fill: #1967D2;\n",
              "      height: 32px;\n",
              "      padding: 0 0 0 0;\n",
              "      width: 32px;\n",
              "    }\n",
              "\n",
              "    .colab-df-convert:hover {\n",
              "      background-color: #E2EBFA;\n",
              "      box-shadow: 0px 1px 2px rgba(60, 64, 67, 0.3), 0px 1px 3px 1px rgba(60, 64, 67, 0.15);\n",
              "      fill: #174EA6;\n",
              "    }\n",
              "\n",
              "    [theme=dark] .colab-df-convert {\n",
              "      background-color: #3B4455;\n",
              "      fill: #D2E3FC;\n",
              "    }\n",
              "\n",
              "    [theme=dark] .colab-df-convert:hover {\n",
              "      background-color: #434B5C;\n",
              "      box-shadow: 0px 1px 3px 1px rgba(0, 0, 0, 0.15);\n",
              "      filter: drop-shadow(0px 1px 2px rgba(0, 0, 0, 0.3));\n",
              "      fill: #FFFFFF;\n",
              "    }\n",
              "  </style>\n",
              "\n",
              "      <script>\n",
              "        const buttonEl =\n",
              "          document.querySelector('#df-f5008f0c-12e0-4ea2-aa92-b84d615c85c7 button.colab-df-convert');\n",
              "        buttonEl.style.display =\n",
              "          google.colab.kernel.accessAllowed ? 'block' : 'none';\n",
              "\n",
              "        async function convertToInteractive(key) {\n",
              "          const element = document.querySelector('#df-f5008f0c-12e0-4ea2-aa92-b84d615c85c7');\n",
              "          const dataTable =\n",
              "            await google.colab.kernel.invokeFunction('convertToInteractive',\n",
              "                                                     [key], {});\n",
              "          if (!dataTable) return;\n",
              "\n",
              "          const docLinkHtml = 'Like what you see? Visit the ' +\n",
              "            '<a target=\"_blank\" href=https://colab.research.google.com/notebooks/data_table.ipynb>data table notebook</a>'\n",
              "            + ' to learn more about interactive tables.';\n",
              "          element.innerHTML = '';\n",
              "          dataTable['output_type'] = 'display_data';\n",
              "          await google.colab.output.renderOutput(dataTable, element);\n",
              "          const docLink = document.createElement('div');\n",
              "          docLink.innerHTML = docLinkHtml;\n",
              "          element.appendChild(docLink);\n",
              "        }\n",
              "      </script>\n",
              "    </div>\n",
              "  </div>\n",
              "  "
            ]
          },
          "metadata": {},
          "execution_count": 4
        }
      ]
    },
    {
      "cell_type": "markdown",
      "source": [
        "## 1.2. Предобработка данных"
      ],
      "metadata": {
        "id": "SVT4FTLQ19dA"
      }
    },
    {
      "cell_type": "code",
      "source": [
        "# определяем в каких столбцах есть пропуски \n",
        "df.isna().sum()"
      ],
      "metadata": {
        "colab": {
          "base_uri": "https://localhost:8080/"
        },
        "id": "q7MOyVXm1hgL",
        "outputId": "0ebc11f3-3fa5-4f7c-d4da-def9b943c35d"
      },
      "execution_count": null,
      "outputs": [
        {
          "output_type": "execute_result",
          "data": {
            "text/plain": [
              "total_images                0\n",
              "last_price                  0\n",
              "total_area                  0\n",
              "first_day_exposition        0\n",
              "rooms                       0\n",
              "ceiling_height           9195\n",
              "floors_total               86\n",
              "living_area              1903\n",
              "floor                       0\n",
              "is_apartment            20924\n",
              "studio                      0\n",
              "open_plan                   0\n",
              "kitchen_area             2278\n",
              "balcony                 11519\n",
              "locality_name              49\n",
              "airports_nearest         5542\n",
              "cityCenters_nearest      5519\n",
              "parks_around3000         5518\n",
              "parks_nearest           15620\n",
              "ponds_around3000         5518\n",
              "ponds_nearest           14589\n",
              "days_exposition          3181\n",
              "dtype: int64"
            ]
          },
          "metadata": {},
          "execution_count": 5
        }
      ]
    },
    {
      "cell_type": "code",
      "source": [
        "# определяем колличество пропусков в %\n",
        "pd.DataFrame(round(df.isna().mean()*100,)).style.background_gradient('coolwarm')"
      ],
      "metadata": {
        "colab": {
          "base_uri": "https://localhost:8080/",
          "height": 739
        },
        "id": "CLTFW6YO2GYJ",
        "outputId": "43ee685d-76ca-43a7-b542-3918b0eca527"
      },
      "execution_count": null,
      "outputs": [
        {
          "output_type": "execute_result",
          "data": {
            "text/plain": [
              "<pandas.io.formats.style.Styler at 0x7ff8d74f5c90>"
            ],
            "text/html": [
              "<style type=\"text/css\">\n",
              "#T_b94be_row0_col0, #T_b94be_row1_col0, #T_b94be_row2_col0, #T_b94be_row3_col0, #T_b94be_row4_col0, #T_b94be_row6_col0, #T_b94be_row8_col0, #T_b94be_row10_col0, #T_b94be_row11_col0, #T_b94be_row14_col0 {\n",
              "  background-color: #3b4cc0;\n",
              "  color: #f1f1f1;\n",
              "}\n",
              "#T_b94be_row5_col0 {\n",
              "  background-color: #cdd9ec;\n",
              "  color: #000000;\n",
              "}\n",
              "#T_b94be_row7_col0 {\n",
              "  background-color: #5673e0;\n",
              "  color: #f1f1f1;\n",
              "}\n",
              "#T_b94be_row9_col0 {\n",
              "  background-color: #b40426;\n",
              "  color: #f1f1f1;\n",
              "}\n",
              "#T_b94be_row12_col0 {\n",
              "  background-color: #5e7de7;\n",
              "  color: #f1f1f1;\n",
              "}\n",
              "#T_b94be_row13_col0 {\n",
              "  background-color: #ead4c8;\n",
              "  color: #000000;\n",
              "}\n",
              "#T_b94be_row15_col0, #T_b94be_row16_col0, #T_b94be_row17_col0, #T_b94be_row19_col0 {\n",
              "  background-color: #90b2fe;\n",
              "  color: #000000;\n",
              "}\n",
              "#T_b94be_row18_col0 {\n",
              "  background-color: #f4987a;\n",
              "  color: #000000;\n",
              "}\n",
              "#T_b94be_row20_col0 {\n",
              "  background-color: #f7aa8c;\n",
              "  color: #000000;\n",
              "}\n",
              "#T_b94be_row21_col0 {\n",
              "  background-color: #688aef;\n",
              "  color: #f1f1f1;\n",
              "}\n",
              "</style>\n",
              "<table id=\"T_b94be_\" class=\"dataframe\">\n",
              "  <thead>\n",
              "    <tr>\n",
              "      <th class=\"blank level0\" >&nbsp;</th>\n",
              "      <th class=\"col_heading level0 col0\" >0</th>\n",
              "    </tr>\n",
              "  </thead>\n",
              "  <tbody>\n",
              "    <tr>\n",
              "      <th id=\"T_b94be_level0_row0\" class=\"row_heading level0 row0\" >total_images</th>\n",
              "      <td id=\"T_b94be_row0_col0\" class=\"data row0 col0\" >0.000000</td>\n",
              "    </tr>\n",
              "    <tr>\n",
              "      <th id=\"T_b94be_level0_row1\" class=\"row_heading level0 row1\" >last_price</th>\n",
              "      <td id=\"T_b94be_row1_col0\" class=\"data row1 col0\" >0.000000</td>\n",
              "    </tr>\n",
              "    <tr>\n",
              "      <th id=\"T_b94be_level0_row2\" class=\"row_heading level0 row2\" >total_area</th>\n",
              "      <td id=\"T_b94be_row2_col0\" class=\"data row2 col0\" >0.000000</td>\n",
              "    </tr>\n",
              "    <tr>\n",
              "      <th id=\"T_b94be_level0_row3\" class=\"row_heading level0 row3\" >first_day_exposition</th>\n",
              "      <td id=\"T_b94be_row3_col0\" class=\"data row3 col0\" >0.000000</td>\n",
              "    </tr>\n",
              "    <tr>\n",
              "      <th id=\"T_b94be_level0_row4\" class=\"row_heading level0 row4\" >rooms</th>\n",
              "      <td id=\"T_b94be_row4_col0\" class=\"data row4 col0\" >0.000000</td>\n",
              "    </tr>\n",
              "    <tr>\n",
              "      <th id=\"T_b94be_level0_row5\" class=\"row_heading level0 row5\" >ceiling_height</th>\n",
              "      <td id=\"T_b94be_row5_col0\" class=\"data row5 col0\" >39.000000</td>\n",
              "    </tr>\n",
              "    <tr>\n",
              "      <th id=\"T_b94be_level0_row6\" class=\"row_heading level0 row6\" >floors_total</th>\n",
              "      <td id=\"T_b94be_row6_col0\" class=\"data row6 col0\" >0.000000</td>\n",
              "    </tr>\n",
              "    <tr>\n",
              "      <th id=\"T_b94be_level0_row7\" class=\"row_heading level0 row7\" >living_area</th>\n",
              "      <td id=\"T_b94be_row7_col0\" class=\"data row7 col0\" >8.000000</td>\n",
              "    </tr>\n",
              "    <tr>\n",
              "      <th id=\"T_b94be_level0_row8\" class=\"row_heading level0 row8\" >floor</th>\n",
              "      <td id=\"T_b94be_row8_col0\" class=\"data row8 col0\" >0.000000</td>\n",
              "    </tr>\n",
              "    <tr>\n",
              "      <th id=\"T_b94be_level0_row9\" class=\"row_heading level0 row9\" >is_apartment</th>\n",
              "      <td id=\"T_b94be_row9_col0\" class=\"data row9 col0\" >88.000000</td>\n",
              "    </tr>\n",
              "    <tr>\n",
              "      <th id=\"T_b94be_level0_row10\" class=\"row_heading level0 row10\" >studio</th>\n",
              "      <td id=\"T_b94be_row10_col0\" class=\"data row10 col0\" >0.000000</td>\n",
              "    </tr>\n",
              "    <tr>\n",
              "      <th id=\"T_b94be_level0_row11\" class=\"row_heading level0 row11\" >open_plan</th>\n",
              "      <td id=\"T_b94be_row11_col0\" class=\"data row11 col0\" >0.000000</td>\n",
              "    </tr>\n",
              "    <tr>\n",
              "      <th id=\"T_b94be_level0_row12\" class=\"row_heading level0 row12\" >kitchen_area</th>\n",
              "      <td id=\"T_b94be_row12_col0\" class=\"data row12 col0\" >10.000000</td>\n",
              "    </tr>\n",
              "    <tr>\n",
              "      <th id=\"T_b94be_level0_row13\" class=\"row_heading level0 row13\" >balcony</th>\n",
              "      <td id=\"T_b94be_row13_col0\" class=\"data row13 col0\" >49.000000</td>\n",
              "    </tr>\n",
              "    <tr>\n",
              "      <th id=\"T_b94be_level0_row14\" class=\"row_heading level0 row14\" >locality_name</th>\n",
              "      <td id=\"T_b94be_row14_col0\" class=\"data row14 col0\" >0.000000</td>\n",
              "    </tr>\n",
              "    <tr>\n",
              "      <th id=\"T_b94be_level0_row15\" class=\"row_heading level0 row15\" >airports_nearest</th>\n",
              "      <td id=\"T_b94be_row15_col0\" class=\"data row15 col0\" >23.000000</td>\n",
              "    </tr>\n",
              "    <tr>\n",
              "      <th id=\"T_b94be_level0_row16\" class=\"row_heading level0 row16\" >cityCenters_nearest</th>\n",
              "      <td id=\"T_b94be_row16_col0\" class=\"data row16 col0\" >23.000000</td>\n",
              "    </tr>\n",
              "    <tr>\n",
              "      <th id=\"T_b94be_level0_row17\" class=\"row_heading level0 row17\" >parks_around3000</th>\n",
              "      <td id=\"T_b94be_row17_col0\" class=\"data row17 col0\" >23.000000</td>\n",
              "    </tr>\n",
              "    <tr>\n",
              "      <th id=\"T_b94be_level0_row18\" class=\"row_heading level0 row18\" >parks_nearest</th>\n",
              "      <td id=\"T_b94be_row18_col0\" class=\"data row18 col0\" >66.000000</td>\n",
              "    </tr>\n",
              "    <tr>\n",
              "      <th id=\"T_b94be_level0_row19\" class=\"row_heading level0 row19\" >ponds_around3000</th>\n",
              "      <td id=\"T_b94be_row19_col0\" class=\"data row19 col0\" >23.000000</td>\n",
              "    </tr>\n",
              "    <tr>\n",
              "      <th id=\"T_b94be_level0_row20\" class=\"row_heading level0 row20\" >ponds_nearest</th>\n",
              "      <td id=\"T_b94be_row20_col0\" class=\"data row20 col0\" >62.000000</td>\n",
              "    </tr>\n",
              "    <tr>\n",
              "      <th id=\"T_b94be_level0_row21\" class=\"row_heading level0 row21\" >days_exposition</th>\n",
              "      <td id=\"T_b94be_row21_col0\" class=\"data row21 col0\" >13.000000</td>\n",
              "    </tr>\n",
              "  </tbody>\n",
              "</table>\n"
            ]
          },
          "metadata": {},
          "execution_count": 6
        }
      ]
    },
    {
      "cell_type": "code",
      "source": [
        "# заменим пропуски в столбце balcony на 0.\n",
        "df['balcony'] = df['balcony'].fillna(0)"
      ],
      "metadata": {
        "id": "bfY9CN_A2JK2"
      },
      "execution_count": null,
      "outputs": []
    },
    {
      "cell_type": "code",
      "source": [
        "#  заменим пропуски в столбце locality_name на Без названия\n",
        "df['locality_name'] = df['locality_name'].fillna('Без названия')"
      ],
      "metadata": {
        "id": "Phf59Jj02p51"
      },
      "execution_count": null,
      "outputs": []
    },
    {
      "cell_type": "markdown",
      "source": [
        "Пропуски в столбце parks_around3000 возможно означают, что парков в радиусе 3км нет."
      ],
      "metadata": {
        "id": "TQPtu6z5-57q"
      }
    },
    {
      "cell_type": "code",
      "source": [
        "#  Заменим на заглушку 999999\n",
        "df['parks_around3000'] = df['parks_around3000'].fillna(999999)"
      ],
      "metadata": {
        "id": "3baGMqwb2r5v"
      },
      "execution_count": null,
      "outputs": []
    },
    {
      "cell_type": "markdown",
      "source": [
        "Пропуски в столбце ponds_around3000 возможно означают, что водоемов в радиусе 3км нет."
      ],
      "metadata": {
        "id": "hSGys4iE-sTv"
      }
    },
    {
      "cell_type": "code",
      "source": [
        "# Заменим на заглушку 999999\n",
        "df['ponds_around3000'] = df['ponds_around3000'].fillna(999999)"
      ],
      "metadata": {
        "id": "xLwsBiQL2ti5"
      },
      "execution_count": null,
      "outputs": []
    },
    {
      "cell_type": "markdown",
      "source": [
        "Пропуски в столбце is_apartment означают, что объект не является аппартаментами."
      ],
      "metadata": {
        "id": "1SE44vmo_E5w"
      }
    },
    {
      "cell_type": "code",
      "source": [
        "# Заменим на пустую строку\n",
        "df['is_apartment'] = df['is_apartment'].fillna(value='')"
      ],
      "metadata": {
        "id": "EKXIPpfQ2vOL"
      },
      "execution_count": null,
      "outputs": []
    },
    {
      "cell_type": "markdown",
      "source": [
        "Пропуски в столбце days_exposition возможно означают, что квартира еще не продана и объявление активно. "
      ],
      "metadata": {
        "id": "UWVSz0ub_M39"
      }
    },
    {
      "cell_type": "code",
      "source": [
        "# Заменим на заглушку 999999\n",
        "df['days_exposition'] = df['days_exposition'].fillna(999999)"
      ],
      "metadata": {
        "id": "_o3UFsm22xAa"
      },
      "execution_count": null,
      "outputs": []
    },
    {
      "cell_type": "markdown",
      "source": [
        "Пропуски в столбце floors_total составляют 0,4% от всего объема данных, не повлияют на анализ. "
      ],
      "metadata": {
        "id": "2n9treCT_Vqs"
      }
    },
    {
      "cell_type": "code",
      "source": [
        "# Заменим на заглушку 999999\n",
        "df['floors_total'] = df['floors_total'].fillna(999999)"
      ],
      "metadata": {
        "id": "KfbWtmWh2yr-"
      },
      "execution_count": null,
      "outputs": []
    },
    {
      "cell_type": "code",
      "source": [
        "# пропуски в столбцах с расстоянием заменим на заглушку 999999\n",
        "df['cityCenters_nearest'] = df['cityCenters_nearest'].fillna(999999)"
      ],
      "metadata": {
        "id": "Ni0Qhu0420NA"
      },
      "execution_count": null,
      "outputs": []
    },
    {
      "cell_type": "code",
      "source": [
        "# пропуски в столбцах с расстоянием заменим на заглушку 999999\n",
        "df['parks_nearest'] = df['parks_nearest'].fillna(999999)"
      ],
      "metadata": {
        "id": "t8CaHDzs238H"
      },
      "execution_count": null,
      "outputs": []
    },
    {
      "cell_type": "code",
      "source": [
        "# пропуски в столбцах с расстоянием заменим на заглушку 999999\n",
        "df['airports_nearest'] = df['airports_nearest'].fillna(999999)"
      ],
      "metadata": {
        "id": "p_WvlEsd25yM"
      },
      "execution_count": null,
      "outputs": []
    },
    {
      "cell_type": "code",
      "source": [
        "# пропуски в столбцах с расстоянием заменим на заглушку 999999\n",
        "df['ponds_nearest'] = df['ponds_nearest'].fillna(999999)"
      ],
      "metadata": {
        "id": "g4eDeiRK27nN"
      },
      "execution_count": null,
      "outputs": []
    },
    {
      "cell_type": "code",
      "source": [
        "# пропуски в столбце ceiling_height заменим на медианное значение\n",
        "df['ceiling_height'] = df['ceiling_height'].fillna(df['ceiling_height'].median())"
      ],
      "metadata": {
        "id": "9xzUIXtS29Tj"
      },
      "execution_count": null,
      "outputs": []
    },
    {
      "cell_type": "code",
      "source": [
        "# пропуски в столбце living_area заменим на медианное значение\n",
        "df['living_area'] = df['living_area'].fillna(df['living_area'].median())"
      ],
      "metadata": {
        "id": "k_oZFoFe2-xF"
      },
      "execution_count": null,
      "outputs": []
    },
    {
      "cell_type": "code",
      "source": [
        "# пропуски в столбце kitchen_area заменим на медианное значение\n",
        "df['kitchen_area'] = df['kitchen_area'].fillna(df['kitchen_area'].median())"
      ],
      "metadata": {
        "id": "5TbAhvXd3Aa6"
      },
      "execution_count": null,
      "outputs": []
    },
    {
      "cell_type": "code",
      "source": [
        "# проверим еще раз пропуски\n",
        "df.isna().sum()"
      ],
      "metadata": {
        "colab": {
          "base_uri": "https://localhost:8080/"
        },
        "id": "3aX-vXci3CaJ",
        "outputId": "b1543877-580f-4187-bd06-45e676b05fea"
      },
      "execution_count": null,
      "outputs": [
        {
          "output_type": "execute_result",
          "data": {
            "text/plain": [
              "total_images            0\n",
              "last_price              0\n",
              "total_area              0\n",
              "first_day_exposition    0\n",
              "rooms                   0\n",
              "ceiling_height          0\n",
              "floors_total            0\n",
              "living_area             0\n",
              "floor                   0\n",
              "is_apartment            0\n",
              "studio                  0\n",
              "open_plan               0\n",
              "kitchen_area            0\n",
              "balcony                 0\n",
              "locality_name           0\n",
              "airports_nearest        0\n",
              "cityCenters_nearest     0\n",
              "parks_around3000        0\n",
              "parks_nearest           0\n",
              "ponds_around3000        0\n",
              "ponds_nearest           0\n",
              "days_exposition         0\n",
              "dtype: int64"
            ]
          },
          "metadata": {},
          "execution_count": 21
        }
      ]
    },
    {
      "cell_type": "markdown",
      "source": [
        "Пропуски во всех столбцах можно разделить на условные 3 группы\n",
        "- столбцы с пропусками заменяем на пустые строки, т.к. пропуски составляют менее 1% либо пропуски означают отсутствие утверждения (возможно парков/водоемов в радиусе 3км нет или объект недвижимости не является аппартаментами)\n",
        "- столбцы с пропусками заменяем на заглушки, т.к. можно предположить, что от некоторых населённых пунктов аэропорты/ парки/ водоемы очень далеко, и сервис просто не проставляет расстояние\n",
        "- столбцы с пропусками в данных о высоте/расстоянии заменяем на медианное значение, чтобы исключить \"выбросы\""
      ],
      "metadata": {
        "id": "CLswPkMk3MEA"
      }
    },
    {
      "cell_type": "code",
      "source": [
        "# заменим тип данных в столбце first_day_exposition на формат datetime\n",
        "df['first_day_exposition'] = df['first_day_exposition'].astype('datetime64')"
      ],
      "metadata": {
        "id": "xRecNfUB5xUt"
      },
      "execution_count": null,
      "outputs": []
    },
    {
      "cell_type": "code",
      "source": [
        "# заменим тип данных в столбце is_apartment на булево значение\n",
        "df['is_apartment'] = df['is_apartment'].astype('bool')"
      ],
      "metadata": {
        "id": "EOdDja3o55Ui"
      },
      "execution_count": null,
      "outputs": []
    },
    {
      "cell_type": "code",
      "source": [
        "# замeним тип данных в столбцах balcony, floors_total, parks_around3000, ponds_around3000, days_exposition\n",
        "df['balcony'] = df['balcony'].astype('int')\n",
        "df['floors_total'] = df['floors_total'].astype('int')\n",
        "df['parks_around3000'] = df['parks_around3000'].astype('int')\n",
        "df['ponds_around3000'] = df['ponds_around3000'].astype('int')\n",
        "df['days_exposition'] = df['days_exposition'].astype('int')"
      ],
      "metadata": {
        "id": "ziX5aQHC57PS"
      },
      "execution_count": null,
      "outputs": []
    },
    {
      "cell_type": "code",
      "source": [
        "# проверим типы данных в исправленных столбцах\n",
        "df.dtypes"
      ],
      "metadata": {
        "colab": {
          "base_uri": "https://localhost:8080/"
        },
        "id": "T65LfL7C58wU",
        "outputId": "4e41a2ba-7ff4-41ef-a6ec-9ebbbaf9de91"
      },
      "execution_count": null,
      "outputs": [
        {
          "output_type": "execute_result",
          "data": {
            "text/plain": [
              "total_images                     int64\n",
              "last_price                     float64\n",
              "total_area                     float64\n",
              "first_day_exposition    datetime64[ns]\n",
              "rooms                            int64\n",
              "ceiling_height                 float64\n",
              "floors_total                     int64\n",
              "living_area                    float64\n",
              "floor                            int64\n",
              "is_apartment                      bool\n",
              "studio                            bool\n",
              "open_plan                         bool\n",
              "kitchen_area                   float64\n",
              "balcony                          int64\n",
              "locality_name                   object\n",
              "airports_nearest               float64\n",
              "cityCenters_nearest            float64\n",
              "parks_around3000                 int64\n",
              "parks_nearest                  float64\n",
              "ponds_around3000                 int64\n",
              "ponds_nearest                  float64\n",
              "days_exposition                  int64\n",
              "dtype: object"
            ]
          },
          "metadata": {},
          "execution_count": 25
        }
      ]
    },
    {
      "cell_type": "code",
      "source": [
        "# проверим количество строк-дубликатов в данных\n",
        "df.duplicated().sum()"
      ],
      "metadata": {
        "colab": {
          "base_uri": "https://localhost:8080/"
        },
        "id": "O0Bj5kyO5-vO",
        "outputId": "a2ce9839-4bda-408e-d49c-09b05ed2b836"
      },
      "execution_count": null,
      "outputs": [
        {
          "output_type": "execute_result",
          "data": {
            "text/plain": [
              "0"
            ]
          },
          "metadata": {},
          "execution_count": 26
        }
      ]
    },
    {
      "cell_type": "code",
      "source": [
        "# выведем перечень уникальных значений в названиях населенных пунктов\n",
        "df['locality_name'].sort_values(ascending=False).unique()"
      ],
      "metadata": {
        "colab": {
          "base_uri": "https://localhost:8080/"
        },
        "id": "DAzK7OVT6GVI",
        "outputId": "fea006f6-8c1e-455d-f6fb-ba458c385384"
      },
      "execution_count": null,
      "outputs": [
        {
          "output_type": "execute_result",
          "data": {
            "text/plain": [
              "array(['село Шум', 'село Старая Ладога', 'село Русско-Высоцкое',\n",
              "       'село Рождествено', 'село Путилово', 'село Паша', 'село Павлово',\n",
              "       'село Никольское', 'село Копорье', 'садовое товарищество Садко',\n",
              "       'садовое товарищество Рахья', 'садовое товарищество Приладожский',\n",
              "       'садовое товарищество Новая Ропша',\n",
              "       'садоводческое некоммерческое товарищество Лесная Поляна',\n",
              "       'посёлок станции Свирь', 'посёлок станции Громово',\n",
              "       'посёлок при железнодорожной станции Приветнинское',\n",
              "       'посёлок при железнодорожной станции Вещево',\n",
              "       'посёлок городского типа имени Свердлова',\n",
              "       'посёлок городского типа имени Морозова',\n",
              "       'посёлок городского типа Форносово',\n",
              "       'посёлок городского типа Ульяновка',\n",
              "       'посёлок городского типа Токсово', 'посёлок городского типа Тайцы',\n",
              "       'посёлок городского типа Сиверский',\n",
              "       'посёлок городского типа Рябово', 'посёлок городского типа Рощино',\n",
              "       'посёлок городского типа Павлово', 'посёлок городского типа Мга',\n",
              "       'посёлок городского типа Лебяжье',\n",
              "       'посёлок городского типа Кузьмоловский',\n",
              "       'посёлок городского типа Кузнечное',\n",
              "       'посёлок городского типа Красный Бор',\n",
              "       'посёлок городского типа Вырица',\n",
              "       'посёлок городского типа Вознесенье',\n",
              "       'посёлок городского типа Важины', 'посёлок Щеглово',\n",
              "       'посёлок Шушары', 'посёлок Шугозеро', 'посёлок Форт Красная Горка',\n",
              "       'посёлок Усть-Луга', 'посёлок Усть-Ижора', 'посёлок Торфяное',\n",
              "       'посёлок Терволово', 'посёлок Тельмана', 'посёлок Сумино',\n",
              "       'посёлок Суйда', 'посёлок Стрельна', 'посёлок Стеклянный',\n",
              "       'посёлок Старая Малукса', 'посёлок Сосново', 'посёлок Сапёрный',\n",
              "       'посёлок Сапёрное', 'посёлок Ропша', 'посёлок Репино',\n",
              "       'посёлок Пудость', 'посёлок Пригородный', 'посёлок Понтонный',\n",
              "       'посёлок Поляны', 'посёлок Победа', 'посёлок Плоское',\n",
              "       'посёлок Плодовое', 'посёлок Платформа 69-й километр',\n",
              "       'посёлок Петровское', 'посёлок Петро-Славянка', 'посёлок Песочный',\n",
              "       'посёлок Перово', 'посёлок Парголово',\n",
              "       'посёлок Пансионат Зелёный Бор', 'посёлок Новый Свет',\n",
              "       'посёлок Новогорелово', 'посёлок Мыза-Ивановка', 'посёлок Мурино',\n",
              "       'посёлок Молодёжное', 'посёлок Мичуринское',\n",
              "       'посёлок Металлострой', 'посёлок Мельниково', 'посёлок Лисий Нос',\n",
              "       'посёлок Ленинское', 'посёлок Левашово', 'посёлок Коробицыно',\n",
              "       'посёлок Кобралово', 'посёлок Кикерино', 'посёлок Ильичёво',\n",
              "       'посёлок Жилгородок', 'посёлок Дзержинского', 'посёлок Гаврилово',\n",
              "       'посёлок Высокоключевой', 'посёлок Войскорово',\n",
              "       'посёлок Возрождение', 'посёлок Бугры', 'посёлок Белоостров',\n",
              "       'посёлок Аннино', 'посёлок Алексеевка', 'посёлок Александровская',\n",
              "       'поселок станции Приветнинское', 'поселок станции Лужайка',\n",
              "       'поселок станции Корнево', 'поселок станции Вещево',\n",
              "       'поселок городского типа имени Свердлова',\n",
              "       'поселок городского типа Форносово',\n",
              "       'поселок городского типа Токсово',\n",
              "       'поселок городского типа Советский',\n",
              "       'поселок городского типа Синявино',\n",
              "       'поселок городского типа Рябово', 'поселок городского типа Рощино',\n",
              "       'поселок городского типа Рахья',\n",
              "       'поселок городского типа Приладожский',\n",
              "       'поселок городского типа Никольский',\n",
              "       'поселок городского типа Назия',\n",
              "       'поселок городского типа Лесогорский',\n",
              "       'поселок городского типа Лебяжье',\n",
              "       'поселок городского типа Кузьмоловский',\n",
              "       'поселок городского типа Красный Бор',\n",
              "       'поселок городского типа Кондратьево',\n",
              "       'поселок городского типа Ефимовский',\n",
              "       'поселок городского типа Дубровка',\n",
              "       'поселок городского типа Дружная Горка',\n",
              "       'поселок городского типа Вырица',\n",
              "       'поселок городского типа Большая Ижора', 'поселок Цвылёво',\n",
              "       'поселок Цвелодубово', 'поселок Ушаки', 'поселок Усть-Луга',\n",
              "       'поселок Углово', 'поселок Тёсово-4', 'поселок Торковичи',\n",
              "       'поселок Терволово', 'поселок Тельмана', 'поселок Суходолье',\n",
              "       'поселок Сумино', 'поселок Стеклянный', 'поселок Старая Малукса',\n",
              "       'поселок Совхозный', 'поселок Серебрянский', 'поселок Семрино',\n",
              "       'поселок Семиозерье', 'поселок Сельцо', 'поселок Селезнёво',\n",
              "       'поселок Севастьяново', 'поселок Рябово', 'поселок Ромашки',\n",
              "       'поселок Романовка', 'поселок Рабитицы', 'поселок Пчевжа',\n",
              "       'поселок Пушное', 'поселок Починок', 'поселок Почап',\n",
              "       'поселок Поляны', 'поселок Победа', 'поселок Петровское',\n",
              "       'поселок Перово', 'поселок Первомайское',\n",
              "       'поселок Пансионат Зелёный Бор', 'поселок Оредеж',\n",
              "       'поселок Новый Учхоз', 'поселок Новый Свет', 'поселок Мурино',\n",
              "       'поселок Молодцово', 'поселок Мичуринское', 'поселок Мельниково',\n",
              "       'поселок Любань', 'поселок Лукаши', 'поселок Лисий Нос',\n",
              "       'поселок Лесное', 'поселок Красносельское',\n",
              "       'поселок Красная Долина', 'поселок Котельский',\n",
              "       'поселок Коробицыно', 'поселок Коммунары', 'поселок Кобринское',\n",
              "       'поселок Кобралово', 'поселок Кирпичное', 'поселок Кингисеппский',\n",
              "       'поселок Каложицы', 'поселок Калитино', 'поселок Ильичёво',\n",
              "       'поселок Зимитицы', 'поселок Запорожское', 'поселок Заводской',\n",
              "       'поселок Житково', 'поселок Жилпосёлок', 'поселок Жилгородок',\n",
              "       'поселок Елизаветино', 'поселок Дружноселье', 'поселок Громово',\n",
              "       'поселок Гончарово', 'поселок Глебычево', 'поселок Глажево',\n",
              "       'поселок Гладкое', 'поселок Гарболово', 'поселок Гаврилово',\n",
              "       'поселок Володарское', 'поселок Войсковицы', 'поселок Возрождение',\n",
              "       'поселок Бугры', 'поселок Барышево', 'поселок Аннино',\n",
              "       'коттеджный посёлок Лесное', 'коттеджный поселок Счастье',\n",
              "       'коттеджный поселок Кивеннапа Север', 'деревня Ям-Тесово',\n",
              "       'деревня Яльгелево', 'деревня Ялгино', 'деревня Юкки',\n",
              "       'деревня Щеглово', 'деревня Шпаньково', 'деревня Чудской Бор',\n",
              "       'деревня Хязельки', 'деревня Хапо-Ое', 'деревня Фёдоровское',\n",
              "       'деревня Фалилеево', 'деревня Трубников Бор',\n",
              "       'деревня Торошковичи', 'деревня Торосово', 'деревня Тойворово',\n",
              "       'деревня Тихковицы', 'деревня Терпилицы', 'деревня Тарасово',\n",
              "       'деревня Сяськелево', 'деревня Суоранда',\n",
              "       'деревня Старые Бегуницы', 'деревня Старосиверская',\n",
              "       'деревня Старополье', 'деревня Старое Хинколово',\n",
              "       'деревня Старая Пустошь', 'деревня Старая', 'деревня Снегирёвка',\n",
              "       'деревня Сижно', 'деревня Русско', 'деревня Реброво',\n",
              "       'деревня Рапполово', 'деревня Разметелево', 'деревня Раздолье',\n",
              "       'деревня Разбегаево', 'деревня Рабитицы', 'деревня Пчева',\n",
              "       'деревня Пустынка', 'деревня Пудомяги', 'деревня Пикколово',\n",
              "       'деревня Пижма', 'деревня Пеники', 'деревня Пельгора',\n",
              "       'деревня Парицы', 'деревня Оржицы', 'деревня Нурма',\n",
              "       'деревня Новолисино', 'деревня Новое Девяткино', 'деревня Низино',\n",
              "       'деревня Нижняя', 'деревня Нижние Осельки', 'деревня Ненимяки',\n",
              "       'деревня Мистолово', 'деревня Мины', 'деревня Меньково',\n",
              "       'деревня Мануйлово', 'деревня Малые Колпаны',\n",
              "       'деревня Малое Карлино', 'деревня Малое Верево',\n",
              "       'деревня Малая Романовка', 'деревня Лупполово',\n",
              "       'деревня Лопухинка', 'деревня Лесколово', 'деревня Лампово',\n",
              "       'деревня Лаголово', 'деревня Лаврики', 'деревня Куттузи',\n",
              "       'деревня Куровицы', 'деревня Курковицы', 'деревня Кузьмолово',\n",
              "       'деревня Кудрово', 'деревня Кривко', 'деревня Котлы',\n",
              "       'деревня Коркино', 'деревня Колтуши', 'деревня Кисельня',\n",
              "       'деревня Кипень', 'деревня Келози', 'деревня Каськово',\n",
              "       'деревня Камышовка', 'деревня Кальтино', 'деревня Калитино',\n",
              "       'деревня Иссад', 'деревня Извара', 'деревня Зимитицы',\n",
              "       'деревня Заневка', 'деревня Заклинье', 'деревня Гостилицы',\n",
              "       'деревня Горбунки', 'деревня Глинка', 'деревня Гарболово',\n",
              "       'деревня Выскатка', 'деревня Вахнова Кара', 'деревня Вартемяги',\n",
              "       'деревня Ваганово', 'деревня Борисова Грива', 'деревня Бор',\n",
              "       'деревня Большой Сабск', 'деревня Большое Рейзино',\n",
              "       'деревня Большие Колпаны', 'деревня Большая Пустомержа',\n",
              "       'деревня Большая Вруда', 'деревня Белогорка', 'деревня Бегуницы',\n",
              "       'деревня Батово', 'деревня Аро', 'деревня Агалатово',\n",
              "       'городской посёлок Янино-1', 'городской посёлок Фёдоровское',\n",
              "       'городской посёлок Советский', 'городской посёлок Свирьстрой',\n",
              "       'городской посёлок Рощино', 'городской посёлок Павлово',\n",
              "       'городской посёлок Новоселье', 'городской посёлок Назия',\n",
              "       'городской посёлок Мга', 'городской посёлок Лесогорский',\n",
              "       'городской посёлок Виллози', 'городской посёлок Будогощь',\n",
              "       'городской поселок Янино-1', 'городской поселок Большая Ижора',\n",
              "       'Шлиссельбург', 'Тосно', 'Тихвин', 'Сясьстрой', 'Сосновый Бор',\n",
              "       'Сланцы', 'Сестрорецк', 'Сертолово', 'Светогорск',\n",
              "       'Санкт-Петербург', 'Пушкин', 'Приозерск', 'Приморск', 'Подпорожье',\n",
              "       'Пикалёво', 'Петергоф', 'Павловск', 'Отрадное', 'Новая Ладога',\n",
              "       'Никольское', 'Мурино', 'Любань', 'Луга', 'Ломоносов',\n",
              "       'Лодейное Поле', 'Кудрово', 'Кронштадт', 'Красное Село',\n",
              "       'Коммунар', 'Колпино', 'Кировск', 'Кириши', 'Кингисепп',\n",
              "       'Каменногорск', 'Ивангород', 'Зеленогорск', 'Гатчина', 'Высоцк',\n",
              "       'Выборг', 'Всеволожск', 'Волхов', 'Волосово', 'Бокситогорск',\n",
              "       'Без названия'], dtype=object)"
            ]
          },
          "metadata": {},
          "execution_count": 27
        }
      ]
    },
    {
      "cell_type": "code",
      "source": [
        "# заменим неявные дубликаты\n",
        "replace_values = {'ё':'е'}\n",
        "df = df.replace({'locality_name': replace_values})\n",
        "df['locality_name'] = df['locality_name'].replace(['ё'],['е'],regex=True)"
      ],
      "metadata": {
        "id": "LZ_Zf4zJ6Oa-"
      },
      "execution_count": null,
      "outputs": []
    },
    {
      "cell_type": "code",
      "source": [
        "# заменим неявные дубликаты\n",
        "word_list = ['поселок городского типа', 'поселок Мурино', 'деревня Кудрово', 'Коммунары',\\\n",
        "             'поселок Рябово' ,'поселок станции Вещево','поселок станции Приветнинское',\\\n",
        "             'коттеджный поселок Лесное', 'поселок при железнодорожной станции',\\\n",
        "            'садоводческое некоммерческое товарищество']\n",
        "name = ['городской посёлок', 'Мурино', 'Кудрово', 'Коммунар', 'поселок городского типа Рябово',\\\n",
        "        'поселок при железнодорожной станции Вещево',\\\n",
        "        'поселок при железнодорожной станции Приветнинское', 'поселок Лесное', 'поселок станции',\\\n",
        "       'садовое товарищество']\n",
        " \n",
        "for word in word_list:\n",
        "    df['locality_name'] = df['locality_name'].replace(word_list, name, regex=True)"
      ],
      "metadata": {
        "id": "Dl2v9s7X6Rb9"
      },
      "execution_count": null,
      "outputs": []
    },
    {
      "cell_type": "code",
      "source": [
        "# проверим столбец ceiling_height на наличие аномалий\n",
        "df['ceiling_height'].unique()"
      ],
      "metadata": {
        "colab": {
          "base_uri": "https://localhost:8080/"
        },
        "id": "4zx_Ek0S6TkC",
        "outputId": "d6b10ed0-4f19-4f3e-cdaa-f38987fda647"
      },
      "execution_count": null,
      "outputs": [
        {
          "output_type": "execute_result",
          "data": {
            "text/plain": [
              "array([  2.7 ,   2.65,   3.03,   2.5 ,   2.67,   2.56,   3.05,   2.75,\n",
              "         2.6 ,   2.9 ,   2.8 ,   2.55,   3.  ,   3.2 ,   2.61,   3.25,\n",
              "         3.45,   2.77,   2.85,   2.64,   2.57,   4.15,   3.5 ,   3.3 ,\n",
              "         2.71,   4.  ,   2.47,   2.73,   2.84,   3.1 ,   2.34,   3.4 ,\n",
              "         3.06,   2.72,   2.54,   2.51,   2.78,   2.76,  25.  ,   2.58,\n",
              "         3.7 ,   2.52,   5.2 ,   2.87,   2.66,   2.59,   2.  ,   2.45,\n",
              "         3.6 ,   2.92,   3.11,   3.13,   3.8 ,   3.15,   3.55,   3.16,\n",
              "         3.62,   3.12,   2.53,   2.74,   2.96,   2.46,   5.3 ,   5.  ,\n",
              "         2.79,   2.95,   4.06,   2.94,   3.82,   3.54,   3.53,   2.83,\n",
              "         4.7 ,   2.4 ,   3.38,   3.01,   5.6 ,   3.65,   3.9 ,   3.18,\n",
              "         3.35,   2.3 ,   3.57,   2.48,   2.62,   2.82,   3.98,   2.63,\n",
              "         3.83,   3.52,   3.95,   3.75,   2.88,   3.67,   3.87,   3.66,\n",
              "         3.85,   3.86,   4.19,   3.24,   4.8 ,   4.5 ,   4.2 ,   3.36,\n",
              "        32.  ,   3.08,   3.68,   3.07,   3.37,   3.09,   8.  ,   3.26,\n",
              "         3.34,   2.81,   3.44,   2.97,   3.14,   4.37,   2.68,   3.22,\n",
              "         3.27,  27.  ,   4.1 ,   2.93,   3.46,  24.  ,   3.47,   3.33,\n",
              "         3.63,   3.32,  26.  ,   1.2 ,   8.3 ,   2.98,   2.86,   3.17,\n",
              "         4.4 ,   3.28,   3.04,   4.45,   5.5 ,   3.84,   3.23,   3.02,\n",
              "         3.21,   3.43,   3.78,   4.3 ,   3.39,   2.69,   3.31,   4.65,\n",
              "         3.56,   2.2 ,   3.51,   3.93,   3.42,   2.99,   3.49,  14.  ,\n",
              "         4.14,   2.91,   3.88,   1.75,   4.25,   3.29,  20.  ,   2.25,\n",
              "         3.76,   3.69,   6.  ,  22.6 ,   2.89,   3.58,   5.8 ,  27.5 ,\n",
              "         2.49,   4.9 ,   3.48,  10.3 ,   1.  , 100.  ,   3.59])"
            ]
          },
          "metadata": {},
          "execution_count": 30
        }
      ]
    },
    {
      "cell_type": "code",
      "source": [
        "# исправим ошибки в данных в столбце ceiling_height\n",
        "df['ceiling_height'] = df['ceiling_height'].replace({\n",
        "    25.0: 2.5,\n",
        "    27.0: 2.7,\n",
        "    32.0: 3.2,\n",
        "    24.0: 2.4,\n",
        "    26.0: 2.6,\n",
        "    14.0: 1.4,\n",
        "    20.0: 2.0,\n",
        "    27.5: 2.75,\n",
        "    22.6: 2.26,\n",
        "    10.3: 1.03\n",
        "})"
      ],
      "metadata": {
        "id": "L9gy5cQP6c39"
      },
      "execution_count": null,
      "outputs": []
    },
    {
      "cell_type": "code",
      "source": [
        "# получим список характерных значений методом describe()\n",
        "df['ceiling_height'].describe()"
      ],
      "metadata": {
        "colab": {
          "base_uri": "https://localhost:8080/"
        },
        "id": "unNc0qsc6uZg",
        "outputId": "d71f7ae5-16ac-4d97-b4d2-9e85f0918d4a"
      },
      "execution_count": null,
      "outputs": [
        {
          "output_type": "execute_result",
          "data": {
            "text/plain": [
              "count    23699.000000\n",
              "mean         2.701595\n",
              "std          0.673591\n",
              "min          1.000000\n",
              "25%          2.600000\n",
              "50%          2.650000\n",
              "75%          2.700000\n",
              "max        100.000000\n",
              "Name: ceiling_height, dtype: float64"
            ]
          },
          "metadata": {},
          "execution_count": 32
        }
      ]
    },
    {
      "cell_type": "code",
      "source": [
        "# найдем недвижимость с самыми большими значениями в столбце ceiling_height\n",
        "df.sort_values(by='ceiling_height', ascending=False).head(10)"
      ],
      "metadata": {
        "colab": {
          "base_uri": "https://localhost:8080/",
          "height": 566
        },
        "id": "OgO5GzEY6y2_",
        "outputId": "42ad8937-768f-4d76-97f9-6bd7548d40e3"
      },
      "execution_count": null,
      "outputs": [
        {
          "output_type": "execute_result",
          "data": {
            "text/plain": [
              "       total_images   last_price  total_area first_day_exposition  rooms  \\\n",
              "22869             0   15000000.0        25.0           2018-07-25      1   \n",
              "5863             20    5650000.0        45.0           2018-08-15      1   \n",
              "17442             0    5350000.0        54.0           2015-06-16      2   \n",
              "3474              3    1400000.0        30.0           2018-03-16      1   \n",
              "15743            14    5600000.0        67.0           2016-11-11      3   \n",
              "20264            17  119000000.0       187.6           2017-07-10      4   \n",
              "21227             0    8200000.0        71.0           2017-07-21      0   \n",
              "1388             20   59800000.0       399.0           2015-01-21      5   \n",
              "7578             17   38000000.0       143.0           2017-11-02      3   \n",
              "1026             20  155000000.0       310.0           2018-10-12      5   \n",
              "\n",
              "       ceiling_height  floors_total  living_area  floor  is_apartment  studio  \\\n",
              "22869           100.0             5         14.0      5          True   False   \n",
              "5863              8.3            16         19.3     14         False   False   \n",
              "17442             8.0             5         29.0      2         False   False   \n",
              "3474              8.0             5         15.3      2         False   False   \n",
              "15743             8.0            16         41.0      1         False   False   \n",
              "20264             6.0             7        147.0      7         False   False   \n",
              "21227             5.8             5         68.0      5         False    True   \n",
              "1388              5.6             6         30.0      6         False   False   \n",
              "7578              5.5             5         83.0      5         False   False   \n",
              "1026              5.3             3        190.0      3         False   False   \n",
              "\n",
              "       open_plan  kitchen_area  balcony    locality_name  airports_nearest  \\\n",
              "22869      False          11.0        5  Санкт-Петербург           34963.0   \n",
              "5863       False           8.3        1  Санкт-Петербург           13069.0   \n",
              "17442      False           9.1        1     Красное Село           24638.0   \n",
              "3474       False           7.3        0    деревня Нурма          999999.0   \n",
              "15743      False           8.0        0  Санкт-Петербург           32691.0   \n",
              "20264      False          15.6        0  Санкт-Петербург           26902.0   \n",
              "21227      False           9.1        0  Санкт-Петербург           20170.0   \n",
              "1388       False           9.1        0  Санкт-Петербург           26204.0   \n",
              "7578       False          29.0        1  Санкт-Петербург           26333.0   \n",
              "1026       False          63.0        2  Санкт-Петербург           24899.0   \n",
              "\n",
              "       cityCenters_nearest  parks_around3000  parks_nearest  ponds_around3000  \\\n",
              "22869               8283.0                 1          223.0                 3   \n",
              "5863               10763.0                 0       999999.0                 1   \n",
              "17442              28062.0                 0       999999.0                 0   \n",
              "3474              999999.0            999999       999999.0            999999   \n",
              "15743              11035.0                 1          723.0                 0   \n",
              "20264               5605.0                 3          484.0                 1   \n",
              "21227               1261.0                 2          295.0                 3   \n",
              "1388                6934.0                 2          149.0                 2   \n",
              "7578                6448.0                 3          479.0                 0   \n",
              "1026                4785.0                 0       999999.0                 1   \n",
              "\n",
              "       ponds_nearest  days_exposition  \n",
              "22869           30.0               19  \n",
              "5863           613.0               14  \n",
              "17442       999999.0              469  \n",
              "3474        999999.0              125  \n",
              "15743       999999.0              474  \n",
              "20264          305.0              259  \n",
              "21227          366.0               30  \n",
              "1388           577.0              719  \n",
              "7578        999999.0           999999  \n",
              "1026           603.0           999999  "
            ],
            "text/html": [
              "\n",
              "  <div id=\"df-d9ef9fe7-55f6-4074-8cc5-de0ac50f9e49\">\n",
              "    <div class=\"colab-df-container\">\n",
              "      <div>\n",
              "<style scoped>\n",
              "    .dataframe tbody tr th:only-of-type {\n",
              "        vertical-align: middle;\n",
              "    }\n",
              "\n",
              "    .dataframe tbody tr th {\n",
              "        vertical-align: top;\n",
              "    }\n",
              "\n",
              "    .dataframe thead th {\n",
              "        text-align: right;\n",
              "    }\n",
              "</style>\n",
              "<table border=\"1\" class=\"dataframe\">\n",
              "  <thead>\n",
              "    <tr style=\"text-align: right;\">\n",
              "      <th></th>\n",
              "      <th>total_images</th>\n",
              "      <th>last_price</th>\n",
              "      <th>total_area</th>\n",
              "      <th>first_day_exposition</th>\n",
              "      <th>rooms</th>\n",
              "      <th>ceiling_height</th>\n",
              "      <th>floors_total</th>\n",
              "      <th>living_area</th>\n",
              "      <th>floor</th>\n",
              "      <th>is_apartment</th>\n",
              "      <th>studio</th>\n",
              "      <th>open_plan</th>\n",
              "      <th>kitchen_area</th>\n",
              "      <th>balcony</th>\n",
              "      <th>locality_name</th>\n",
              "      <th>airports_nearest</th>\n",
              "      <th>cityCenters_nearest</th>\n",
              "      <th>parks_around3000</th>\n",
              "      <th>parks_nearest</th>\n",
              "      <th>ponds_around3000</th>\n",
              "      <th>ponds_nearest</th>\n",
              "      <th>days_exposition</th>\n",
              "    </tr>\n",
              "  </thead>\n",
              "  <tbody>\n",
              "    <tr>\n",
              "      <th>22869</th>\n",
              "      <td>0</td>\n",
              "      <td>15000000.0</td>\n",
              "      <td>25.0</td>\n",
              "      <td>2018-07-25</td>\n",
              "      <td>1</td>\n",
              "      <td>100.0</td>\n",
              "      <td>5</td>\n",
              "      <td>14.0</td>\n",
              "      <td>5</td>\n",
              "      <td>True</td>\n",
              "      <td>False</td>\n",
              "      <td>False</td>\n",
              "      <td>11.0</td>\n",
              "      <td>5</td>\n",
              "      <td>Санкт-Петербург</td>\n",
              "      <td>34963.0</td>\n",
              "      <td>8283.0</td>\n",
              "      <td>1</td>\n",
              "      <td>223.0</td>\n",
              "      <td>3</td>\n",
              "      <td>30.0</td>\n",
              "      <td>19</td>\n",
              "    </tr>\n",
              "    <tr>\n",
              "      <th>5863</th>\n",
              "      <td>20</td>\n",
              "      <td>5650000.0</td>\n",
              "      <td>45.0</td>\n",
              "      <td>2018-08-15</td>\n",
              "      <td>1</td>\n",
              "      <td>8.3</td>\n",
              "      <td>16</td>\n",
              "      <td>19.3</td>\n",
              "      <td>14</td>\n",
              "      <td>False</td>\n",
              "      <td>False</td>\n",
              "      <td>False</td>\n",
              "      <td>8.3</td>\n",
              "      <td>1</td>\n",
              "      <td>Санкт-Петербург</td>\n",
              "      <td>13069.0</td>\n",
              "      <td>10763.0</td>\n",
              "      <td>0</td>\n",
              "      <td>999999.0</td>\n",
              "      <td>1</td>\n",
              "      <td>613.0</td>\n",
              "      <td>14</td>\n",
              "    </tr>\n",
              "    <tr>\n",
              "      <th>17442</th>\n",
              "      <td>0</td>\n",
              "      <td>5350000.0</td>\n",
              "      <td>54.0</td>\n",
              "      <td>2015-06-16</td>\n",
              "      <td>2</td>\n",
              "      <td>8.0</td>\n",
              "      <td>5</td>\n",
              "      <td>29.0</td>\n",
              "      <td>2</td>\n",
              "      <td>False</td>\n",
              "      <td>False</td>\n",
              "      <td>False</td>\n",
              "      <td>9.1</td>\n",
              "      <td>1</td>\n",
              "      <td>Красное Село</td>\n",
              "      <td>24638.0</td>\n",
              "      <td>28062.0</td>\n",
              "      <td>0</td>\n",
              "      <td>999999.0</td>\n",
              "      <td>0</td>\n",
              "      <td>999999.0</td>\n",
              "      <td>469</td>\n",
              "    </tr>\n",
              "    <tr>\n",
              "      <th>3474</th>\n",
              "      <td>3</td>\n",
              "      <td>1400000.0</td>\n",
              "      <td>30.0</td>\n",
              "      <td>2018-03-16</td>\n",
              "      <td>1</td>\n",
              "      <td>8.0</td>\n",
              "      <td>5</td>\n",
              "      <td>15.3</td>\n",
              "      <td>2</td>\n",
              "      <td>False</td>\n",
              "      <td>False</td>\n",
              "      <td>False</td>\n",
              "      <td>7.3</td>\n",
              "      <td>0</td>\n",
              "      <td>деревня Нурма</td>\n",
              "      <td>999999.0</td>\n",
              "      <td>999999.0</td>\n",
              "      <td>999999</td>\n",
              "      <td>999999.0</td>\n",
              "      <td>999999</td>\n",
              "      <td>999999.0</td>\n",
              "      <td>125</td>\n",
              "    </tr>\n",
              "    <tr>\n",
              "      <th>15743</th>\n",
              "      <td>14</td>\n",
              "      <td>5600000.0</td>\n",
              "      <td>67.0</td>\n",
              "      <td>2016-11-11</td>\n",
              "      <td>3</td>\n",
              "      <td>8.0</td>\n",
              "      <td>16</td>\n",
              "      <td>41.0</td>\n",
              "      <td>1</td>\n",
              "      <td>False</td>\n",
              "      <td>False</td>\n",
              "      <td>False</td>\n",
              "      <td>8.0</td>\n",
              "      <td>0</td>\n",
              "      <td>Санкт-Петербург</td>\n",
              "      <td>32691.0</td>\n",
              "      <td>11035.0</td>\n",
              "      <td>1</td>\n",
              "      <td>723.0</td>\n",
              "      <td>0</td>\n",
              "      <td>999999.0</td>\n",
              "      <td>474</td>\n",
              "    </tr>\n",
              "    <tr>\n",
              "      <th>20264</th>\n",
              "      <td>17</td>\n",
              "      <td>119000000.0</td>\n",
              "      <td>187.6</td>\n",
              "      <td>2017-07-10</td>\n",
              "      <td>4</td>\n",
              "      <td>6.0</td>\n",
              "      <td>7</td>\n",
              "      <td>147.0</td>\n",
              "      <td>7</td>\n",
              "      <td>False</td>\n",
              "      <td>False</td>\n",
              "      <td>False</td>\n",
              "      <td>15.6</td>\n",
              "      <td>0</td>\n",
              "      <td>Санкт-Петербург</td>\n",
              "      <td>26902.0</td>\n",
              "      <td>5605.0</td>\n",
              "      <td>3</td>\n",
              "      <td>484.0</td>\n",
              "      <td>1</td>\n",
              "      <td>305.0</td>\n",
              "      <td>259</td>\n",
              "    </tr>\n",
              "    <tr>\n",
              "      <th>21227</th>\n",
              "      <td>0</td>\n",
              "      <td>8200000.0</td>\n",
              "      <td>71.0</td>\n",
              "      <td>2017-07-21</td>\n",
              "      <td>0</td>\n",
              "      <td>5.8</td>\n",
              "      <td>5</td>\n",
              "      <td>68.0</td>\n",
              "      <td>5</td>\n",
              "      <td>False</td>\n",
              "      <td>True</td>\n",
              "      <td>False</td>\n",
              "      <td>9.1</td>\n",
              "      <td>0</td>\n",
              "      <td>Санкт-Петербург</td>\n",
              "      <td>20170.0</td>\n",
              "      <td>1261.0</td>\n",
              "      <td>2</td>\n",
              "      <td>295.0</td>\n",
              "      <td>3</td>\n",
              "      <td>366.0</td>\n",
              "      <td>30</td>\n",
              "    </tr>\n",
              "    <tr>\n",
              "      <th>1388</th>\n",
              "      <td>20</td>\n",
              "      <td>59800000.0</td>\n",
              "      <td>399.0</td>\n",
              "      <td>2015-01-21</td>\n",
              "      <td>5</td>\n",
              "      <td>5.6</td>\n",
              "      <td>6</td>\n",
              "      <td>30.0</td>\n",
              "      <td>6</td>\n",
              "      <td>False</td>\n",
              "      <td>False</td>\n",
              "      <td>False</td>\n",
              "      <td>9.1</td>\n",
              "      <td>0</td>\n",
              "      <td>Санкт-Петербург</td>\n",
              "      <td>26204.0</td>\n",
              "      <td>6934.0</td>\n",
              "      <td>2</td>\n",
              "      <td>149.0</td>\n",
              "      <td>2</td>\n",
              "      <td>577.0</td>\n",
              "      <td>719</td>\n",
              "    </tr>\n",
              "    <tr>\n",
              "      <th>7578</th>\n",
              "      <td>17</td>\n",
              "      <td>38000000.0</td>\n",
              "      <td>143.0</td>\n",
              "      <td>2017-11-02</td>\n",
              "      <td>3</td>\n",
              "      <td>5.5</td>\n",
              "      <td>5</td>\n",
              "      <td>83.0</td>\n",
              "      <td>5</td>\n",
              "      <td>False</td>\n",
              "      <td>False</td>\n",
              "      <td>False</td>\n",
              "      <td>29.0</td>\n",
              "      <td>1</td>\n",
              "      <td>Санкт-Петербург</td>\n",
              "      <td>26333.0</td>\n",
              "      <td>6448.0</td>\n",
              "      <td>3</td>\n",
              "      <td>479.0</td>\n",
              "      <td>0</td>\n",
              "      <td>999999.0</td>\n",
              "      <td>999999</td>\n",
              "    </tr>\n",
              "    <tr>\n",
              "      <th>1026</th>\n",
              "      <td>20</td>\n",
              "      <td>155000000.0</td>\n",
              "      <td>310.0</td>\n",
              "      <td>2018-10-12</td>\n",
              "      <td>5</td>\n",
              "      <td>5.3</td>\n",
              "      <td>3</td>\n",
              "      <td>190.0</td>\n",
              "      <td>3</td>\n",
              "      <td>False</td>\n",
              "      <td>False</td>\n",
              "      <td>False</td>\n",
              "      <td>63.0</td>\n",
              "      <td>2</td>\n",
              "      <td>Санкт-Петербург</td>\n",
              "      <td>24899.0</td>\n",
              "      <td>4785.0</td>\n",
              "      <td>0</td>\n",
              "      <td>999999.0</td>\n",
              "      <td>1</td>\n",
              "      <td>603.0</td>\n",
              "      <td>999999</td>\n",
              "    </tr>\n",
              "  </tbody>\n",
              "</table>\n",
              "</div>\n",
              "      <button class=\"colab-df-convert\" onclick=\"convertToInteractive('df-d9ef9fe7-55f6-4074-8cc5-de0ac50f9e49')\"\n",
              "              title=\"Convert this dataframe to an interactive table.\"\n",
              "              style=\"display:none;\">\n",
              "        \n",
              "  <svg xmlns=\"http://www.w3.org/2000/svg\" height=\"24px\"viewBox=\"0 0 24 24\"\n",
              "       width=\"24px\">\n",
              "    <path d=\"M0 0h24v24H0V0z\" fill=\"none\"/>\n",
              "    <path d=\"M18.56 5.44l.94 2.06.94-2.06 2.06-.94-2.06-.94-.94-2.06-.94 2.06-2.06.94zm-11 1L8.5 8.5l.94-2.06 2.06-.94-2.06-.94L8.5 2.5l-.94 2.06-2.06.94zm10 10l.94 2.06.94-2.06 2.06-.94-2.06-.94-.94-2.06-.94 2.06-2.06.94z\"/><path d=\"M17.41 7.96l-1.37-1.37c-.4-.4-.92-.59-1.43-.59-.52 0-1.04.2-1.43.59L10.3 9.45l-7.72 7.72c-.78.78-.78 2.05 0 2.83L4 21.41c.39.39.9.59 1.41.59.51 0 1.02-.2 1.41-.59l7.78-7.78 2.81-2.81c.8-.78.8-2.07 0-2.86zM5.41 20L4 18.59l7.72-7.72 1.47 1.35L5.41 20z\"/>\n",
              "  </svg>\n",
              "      </button>\n",
              "      \n",
              "  <style>\n",
              "    .colab-df-container {\n",
              "      display:flex;\n",
              "      flex-wrap:wrap;\n",
              "      gap: 12px;\n",
              "    }\n",
              "\n",
              "    .colab-df-convert {\n",
              "      background-color: #E8F0FE;\n",
              "      border: none;\n",
              "      border-radius: 50%;\n",
              "      cursor: pointer;\n",
              "      display: none;\n",
              "      fill: #1967D2;\n",
              "      height: 32px;\n",
              "      padding: 0 0 0 0;\n",
              "      width: 32px;\n",
              "    }\n",
              "\n",
              "    .colab-df-convert:hover {\n",
              "      background-color: #E2EBFA;\n",
              "      box-shadow: 0px 1px 2px rgba(60, 64, 67, 0.3), 0px 1px 3px 1px rgba(60, 64, 67, 0.15);\n",
              "      fill: #174EA6;\n",
              "    }\n",
              "\n",
              "    [theme=dark] .colab-df-convert {\n",
              "      background-color: #3B4455;\n",
              "      fill: #D2E3FC;\n",
              "    }\n",
              "\n",
              "    [theme=dark] .colab-df-convert:hover {\n",
              "      background-color: #434B5C;\n",
              "      box-shadow: 0px 1px 3px 1px rgba(0, 0, 0, 0.15);\n",
              "      filter: drop-shadow(0px 1px 2px rgba(0, 0, 0, 0.3));\n",
              "      fill: #FFFFFF;\n",
              "    }\n",
              "  </style>\n",
              "\n",
              "      <script>\n",
              "        const buttonEl =\n",
              "          document.querySelector('#df-d9ef9fe7-55f6-4074-8cc5-de0ac50f9e49 button.colab-df-convert');\n",
              "        buttonEl.style.display =\n",
              "          google.colab.kernel.accessAllowed ? 'block' : 'none';\n",
              "\n",
              "        async function convertToInteractive(key) {\n",
              "          const element = document.querySelector('#df-d9ef9fe7-55f6-4074-8cc5-de0ac50f9e49');\n",
              "          const dataTable =\n",
              "            await google.colab.kernel.invokeFunction('convertToInteractive',\n",
              "                                                     [key], {});\n",
              "          if (!dataTable) return;\n",
              "\n",
              "          const docLinkHtml = 'Like what you see? Visit the ' +\n",
              "            '<a target=\"_blank\" href=https://colab.research.google.com/notebooks/data_table.ipynb>data table notebook</a>'\n",
              "            + ' to learn more about interactive tables.';\n",
              "          element.innerHTML = '';\n",
              "          dataTable['output_type'] = 'display_data';\n",
              "          await google.colab.output.renderOutput(dataTable, element);\n",
              "          const docLink = document.createElement('div');\n",
              "          docLink.innerHTML = docLinkHtml;\n",
              "          element.appendChild(docLink);\n",
              "        }\n",
              "      </script>\n",
              "    </div>\n",
              "  </div>\n",
              "  "
            ]
          },
          "metadata": {},
          "execution_count": 33
        }
      ]
    },
    {
      "cell_type": "markdown",
      "source": [
        "Среднее практически на уровне медианы, значит в распределении практически не осталось аномальных значений.\n",
        "Выявлен один объект недвижимости с нетипично высоким потолком в 100м, признаем его выбросом и удалим."
      ],
      "metadata": {
        "id": "y_LxuJTQ7BSd"
      }
    },
    {
      "cell_type": "code",
      "source": [
        "df= df.query('index not in [22869]')"
      ],
      "metadata": {
        "id": "mVgMcOIo61bh"
      },
      "execution_count": null,
      "outputs": []
    },
    {
      "cell_type": "code",
      "source": [
        "# добавим в таблицу стоимость за 1кв. метр\n",
        "df['price_one_area'] = df['last_price']/df['total_area']"
      ],
      "metadata": {
        "id": "5w6Dlur06-Jd",
        "colab": {
          "base_uri": "https://localhost:8080/"
        },
        "outputId": "9a384b88-55a6-48c1-c09a-bcb6eb815439"
      },
      "execution_count": null,
      "outputs": [
        {
          "output_type": "stream",
          "name": "stderr",
          "text": [
            "/usr/local/lib/python3.7/dist-packages/ipykernel_launcher.py:2: SettingWithCopyWarning: \n",
            "A value is trying to be set on a copy of a slice from a DataFrame.\n",
            "Try using .loc[row_indexer,col_indexer] = value instead\n",
            "\n",
            "See the caveats in the documentation: https://pandas.pydata.org/pandas-docs/stable/user_guide/indexing.html#returning-a-view-versus-a-copy\n",
            "  \n"
          ]
        }
      ]
    },
    {
      "cell_type": "code",
      "source": [
        "# добавим в таблицу день недели, месяц и год публикации объявления\n",
        "df['weekday'] = df['first_day_exposition'].dt.weekday\n",
        "df['month'] = df['first_day_exposition'].astype('datetime64[M]')\n",
        "df['year'] = df['first_day_exposition'].dt.year"
      ],
      "metadata": {
        "id": "KXijxxHQ7cJt"
      },
      "execution_count": null,
      "outputs": []
    },
    {
      "cell_type": "code",
      "source": [
        "# добавим в таблицу тип этажа квартиры (значения — «первый», «последний», «другой»)\n",
        "def floor_option(row):\n",
        "    if row['floor'] == 1:\n",
        "        return 'первый'\n",
        "    elif row['floor'] == row['floors_total']:\n",
        "        return 'последний'\n",
        "    return 'другой'\n",
        "df['floor_type'] = df.apply(floor_option, axis=1)"
      ],
      "metadata": {
        "id": "_mkaZoqW7fYY"
      },
      "execution_count": null,
      "outputs": []
    },
    {
      "cell_type": "code",
      "source": [
        "# найдем расстояние до центра города в километрах\n",
        "df['cityCenters_nearest'] = (df['cityCenters_nearest']/1000).astype('int')"
      ],
      "metadata": {
        "id": "x0cGWEzc8RJn"
      },
      "execution_count": null,
      "outputs": []
    },
    {
      "cell_type": "markdown",
      "source": [
        "В данном разделе мы:\n",
        "\n",
        "- нашли пропуски и обработали их \n",
        "- изменили типы данных, где необходимо\n",
        "- проверили датасет на дубликаты\n",
        "- нашли и заменили неявные дубликаты\n",
        "- нашли и исправили аномальные значаения в столбце ceiling_height\n",
        "- добавили дополнительные столбцы со стоимостью недвижимости за 1кв.м.; отдельно день/месяц/год публикации объявления; типы этажей, на которых расположена недвижимость; расстояние до центра города в км."
      ],
      "metadata": {
        "id": "p3BWixU9_4Yj"
      }
    },
    {
      "cell_type": "markdown",
      "source": [
        "# 2. Исследовательский анализ данных"
      ],
      "metadata": {
        "id": "nh7zGQrl8gWn"
      }
    },
    {
      "cell_type": "markdown",
      "source": [
        "## 2.1. Исследование параметров объектов"
      ],
      "metadata": {
        "id": "Utfl4xWr8paz"
      }
    },
    {
      "cell_type": "code",
      "source": [
        "# построим гистограмму для столбца total_area \n",
        "df['total_area'].max()\n",
        "df['total_area'].hist(bins=150, range=(0,200));"
      ],
      "metadata": {
        "colab": {
          "base_uri": "https://localhost:8080/",
          "height": 265
        },
        "id": "aHLQ5TfW8WAE",
        "outputId": "35f9c3b9-f35b-4262-d695-1568fb28a1a0"
      },
      "execution_count": null,
      "outputs": [
        {
          "output_type": "display_data",
          "data": {
            "text/plain": [
              "<Figure size 432x288 with 1 Axes>"
            ],
            "image/png": "[encoded data removed]"
          },
          "metadata": {
            "needs_background": "light"
          }
        }
      ]
    },
    {
      "cell_type": "markdown",
      "source": [
        "по данным из столбца total_area видим, что преобладают объекты с общей площадью до 60кв.м"
      ],
      "metadata": {
        "id": "cAx252g08wHu"
      }
    },
    {
      "cell_type": "code",
      "source": [
        "# построим гистограмму для столбца living_area \n",
        "df['living_area'].max()\n",
        "df['living_area'].hist(bins=150, range=(0,100));"
      ],
      "metadata": {
        "colab": {
          "base_uri": "https://localhost:8080/",
          "height": 265
        },
        "id": "F1xi_iDW8tKM",
        "outputId": "91987ec6-c7a5-463e-90fc-f291f3b4784f"
      },
      "execution_count": null,
      "outputs": [
        {
          "output_type": "display_data",
          "data": {
            "text/plain": [
              "<Figure size 432x288 with 1 Axes>"
            ],
            "image/png": "[encoded data removed]"
          },
          "metadata": {
            "needs_background": "light"
          }
        }
      ]
    },
    {
      "cell_type": "markdown",
      "source": [
        "по данным из столбца living_area видим, что преобладают объекты с жилой площадью до 30кв.м"
      ],
      "metadata": {
        "id": "s-ghzsue81Ad"
      }
    },
    {
      "cell_type": "code",
      "source": [
        "# построим гистограмму для столбца kitchen_area \n",
        "df['kitchen_area'].max()\n",
        "df['kitchen_area'].hist(bins=150, range=(0,50));"
      ],
      "metadata": {
        "colab": {
          "base_uri": "https://localhost:8080/",
          "height": 265
        },
        "id": "qPdH3R0z8yvF",
        "outputId": "9c0afd4b-ba7d-4871-8ae7-99901e129c4c"
      },
      "execution_count": null,
      "outputs": [
        {
          "output_type": "display_data",
          "data": {
            "text/plain": [
              "<Figure size 432x288 with 1 Axes>"
            ],
            "image/png": "[encoded data removed]"
          },
          "metadata": {
            "needs_background": "light"
          }
        }
      ]
    },
    {
      "cell_type": "markdown",
      "source": [
        "по данным из столбца kitchen_area видим, что преобладают объекты недвижимости с площадью кухни до 10кв.м"
      ],
      "metadata": {
        "id": "vfrvqKC286fO"
      }
    },
    {
      "cell_type": "code",
      "source": [
        "# построим гистограмму для столбца last_price \n",
        "df['last_price'].max()\n",
        "df['last_price'].hist(bins=150, range=(0,8000000));"
      ],
      "metadata": {
        "colab": {
          "base_uri": "https://localhost:8080/",
          "height": 278
        },
        "id": "LISclpc5832u",
        "outputId": "aa0e2345-c173-456f-8e8b-36de0165b165"
      },
      "execution_count": null,
      "outputs": [
        {
          "output_type": "display_data",
          "data": {
            "text/plain": [
              "<Figure size 432x288 with 1 Axes>"
            ],
            "image/png": "[encoded data removed]"
          },
          "metadata": {
            "needs_background": "light"
          }
        }
      ]
    },
    {
      "cell_type": "markdown",
      "source": [
        "по данным из столбца last_price видим, что преобладают объекты недвижимости с общей стоимостью до 4,5 млн."
      ],
      "metadata": {
        "id": "qsJV6pD08_Wt"
      }
    },
    {
      "cell_type": "code",
      "source": [
        "# построим гистограмму для столбца rooms \n",
        "df['rooms'].max()\n",
        "df['rooms'].hist(bins=150, range=(0,10));"
      ],
      "metadata": {
        "colab": {
          "base_uri": "https://localhost:8080/",
          "height": 265
        },
        "id": "-w5EL24M880i",
        "outputId": "416649c3-119b-4bf1-d1ef-859745d9496c"
      },
      "execution_count": null,
      "outputs": [
        {
          "output_type": "display_data",
          "data": {
            "text/plain": [
              "<Figure size 432x288 with 1 Axes>"
            ],
            "image/png": "[encoded data removed]"
          },
          "metadata": {
            "needs_background": "light"
          }
        }
      ]
    },
    {
      "cell_type": "markdown",
      "source": [
        "по данным из столбца rooms видим, что 34% продаваемых объектов имеют одну комнату, 34% имеют две комнаты, 25% - три комнаты."
      ],
      "metadata": {
        "id": "eZv8UWkO9Dky"
      }
    },
    {
      "cell_type": "code",
      "source": [
        "# построим гистограмму для столбца ceiling_height\n",
        "df['ceiling_height'].max()\n",
        "df['ceiling_height'].hist(bins=150, range=(0,5));\n",
        "df['ceiling_height'].describe()"
      ],
      "metadata": {
        "colab": {
          "base_uri": "https://localhost:8080/",
          "height": 426
        },
        "id": "lgpxia8Z9Bem",
        "outputId": "d2a13c91-7483-4d92-ae6d-379cee33b0ca"
      },
      "execution_count": null,
      "outputs": [
        {
          "output_type": "execute_result",
          "data": {
            "text/plain": [
              "count    23698.000000\n",
              "mean         2.697490\n",
              "std          0.232866\n",
              "min          1.000000\n",
              "25%          2.600000\n",
              "50%          2.650000\n",
              "75%          2.700000\n",
              "max          8.300000\n",
              "Name: ceiling_height, dtype: float64"
            ]
          },
          "metadata": {},
          "execution_count": 44
        },
        {
          "output_type": "display_data",
          "data": {
            "text/plain": [
              "<Figure size 432x288 with 1 Axes>"
            ],
            "image/png": "[encoded data removed]"
          },
          "metadata": {
            "needs_background": "light"
          }
        }
      ]
    },
    {
      "cell_type": "markdown",
      "source": [
        "по данным из столбца ceiling_height видим, что почти половина продаваемых объектов имеют среднюю высоту потолков 2,65м"
      ],
      "metadata": {
        "id": "4qNQJCP_9JhN"
      }
    },
    {
      "cell_type": "code",
      "source": [
        "# построим гистограмму для столбца floor\n",
        "df['floor'].max()\n",
        "df['floor'].hist(bins=150, range=(0,25));"
      ],
      "metadata": {
        "colab": {
          "base_uri": "https://localhost:8080/",
          "height": 267
        },
        "id": "twvoHLZw9ImT",
        "outputId": "d29999ae-9e88-48ce-82ae-1ea96ca40a2b"
      },
      "execution_count": null,
      "outputs": [
        {
          "output_type": "display_data",
          "data": {
            "text/plain": [
              "<Figure size 432x288 with 1 Axes>"
            ],
            "image/png": "[encoded data removed]"
          },
          "metadata": {
            "needs_background": "light"
          }
        }
      ]
    },
    {
      "cell_type": "code",
      "source": [
        "# проведем сортировку для столбца floor\n",
        "df['floor'].value_counts()"
      ],
      "metadata": {
        "colab": {
          "base_uri": "https://localhost:8080/"
        },
        "id": "ktL0zkhi9MY5",
        "outputId": "79768267-a751-43e2-83db-fe36f08cc2cf"
      },
      "execution_count": null,
      "outputs": [
        {
          "output_type": "execute_result",
          "data": {
            "text/plain": [
              "2     3368\n",
              "3     3073\n",
              "1     2917\n",
              "4     2804\n",
              "5     2620\n",
              "6     1305\n",
              "7     1218\n",
              "8     1083\n",
              "9     1051\n",
              "10     687\n",
              "12     526\n",
              "11     523\n",
              "13     379\n",
              "15     343\n",
              "14     337\n",
              "16     315\n",
              "17     227\n",
              "18     178\n",
              "19     147\n",
              "21     125\n",
              "22     113\n",
              "20     110\n",
              "23     100\n",
              "24      63\n",
              "25      46\n",
              "26      24\n",
              "27      10\n",
              "28       1\n",
              "30       1\n",
              "29       1\n",
              "32       1\n",
              "33       1\n",
              "31       1\n",
              "Name: floor, dtype: int64"
            ]
          },
          "metadata": {},
          "execution_count": 46
        }
      ]
    },
    {
      "cell_type": "markdown",
      "source": [
        "по данным из столбца floor видим, что 82% объектов недвижимости расположены до 10 этажа"
      ],
      "metadata": {
        "id": "a5evMpTq9THD"
      }
    },
    {
      "cell_type": "code",
      "source": [
        "# построим гистограмму для столбца floor_type\n",
        "df['floor_type'].hist(bins=10);"
      ],
      "metadata": {
        "colab": {
          "base_uri": "https://localhost:8080/",
          "height": 265
        },
        "id": "JVGcmFVj9O4L",
        "outputId": "7d8a6ad2-1467-47a6-c068-bf1c997f3026"
      },
      "execution_count": null,
      "outputs": [
        {
          "output_type": "display_data",
          "data": {
            "text/plain": [
              "<Figure size 432x288 with 1 Axes>"
            ],
            "image/png": "[encoded data removed]"
          },
          "metadata": {
            "needs_background": "light"
          }
        }
      ]
    },
    {
      "cell_type": "markdown",
      "source": [
        "по данным из столбца floor_type видим, что большая часть объектов недвижимости расположены не на 1 этаже (12%) и не на последнем (14%) этажах."
      ],
      "metadata": {
        "id": "A_ClIBGX9cHI"
      }
    },
    {
      "cell_type": "code",
      "source": [
        "# построим гистограмму для столбца floors_total\n",
        "df['floors_total'].max()\n",
        "df['floors_total'].hist(bins=150, range=(0,30));"
      ],
      "metadata": {
        "colab": {
          "base_uri": "https://localhost:8080/",
          "height": 267
        },
        "id": "K7wJXZWL9aC1",
        "outputId": "af55fe74-63bf-4bb1-c880-b404b401b8ab"
      },
      "execution_count": null,
      "outputs": [
        {
          "output_type": "display_data",
          "data": {
            "text/plain": [
              "<Figure size 432x288 with 1 Axes>"
            ],
            "image/png": "[encoded data removed]"
          },
          "metadata": {
            "needs_background": "light"
          }
        }
      ]
    },
    {
      "cell_type": "markdown",
      "source": [
        "по данным из столбца floors_total видим, что большая часть объектов недвижимости расположены на 5 и 9 этажах, 40% от всей базы данных."
      ],
      "metadata": {
        "id": "JZ7o2zOm9hn8"
      }
    },
    {
      "cell_type": "code",
      "source": [
        "# построим гистограмму для столбца cityCenters_nearest\n",
        "df['cityCenters_nearest'].max()\n",
        "df['cityCenters_nearest'].hist(bins=150, range=(0,100));"
      ],
      "metadata": {
        "colab": {
          "base_uri": "https://localhost:8080/",
          "height": 265
        },
        "id": "h3CvO41K9g0B",
        "outputId": "488f5db9-497f-48b2-9b1c-785f8cc908eb"
      },
      "execution_count": null,
      "outputs": [
        {
          "output_type": "display_data",
          "data": {
            "text/plain": [
              "<Figure size 432x288 with 1 Axes>"
            ],
            "image/png": "[encoded data removed]"
          },
          "metadata": {
            "needs_background": "light"
          }
        }
      ]
    },
    {
      "cell_type": "markdown",
      "source": [
        "по данным из столбца cityCenters_nearest видим, что большая часть объектов недвижимости расположены в центре города"
      ],
      "metadata": {
        "id": "zLyy0wiB9mf-"
      }
    },
    {
      "cell_type": "code",
      "source": [
        "# построим гистограмму для столбца airports_nearest\n",
        "df['airports_nearest'].max()\n",
        "df['airports_nearest'].hist(bins=100);"
      ],
      "metadata": {
        "colab": {
          "base_uri": "https://localhost:8080/",
          "height": 278
        },
        "id": "cdQ9r6QY9kXe",
        "outputId": "e1db8de0-0339-49d8-da0b-153301a020c4"
      },
      "execution_count": null,
      "outputs": [
        {
          "output_type": "display_data",
          "data": {
            "text/plain": [
              "<Figure size 432x288 with 1 Axes>"
            ],
            "image/png": "[encoded data removed]"
          },
          "metadata": {
            "needs_background": "light"
          }
        }
      ]
    },
    {
      "cell_type": "markdown",
      "source": [
        "по данным из столбца airports_nearest видим, что большая часть объектов недвижимости находится на расстоянии 20км от аэропорта"
      ],
      "metadata": {
        "id": "4GS15ZVC9ru2"
      }
    },
    {
      "cell_type": "code",
      "source": [
        "# построим гистограмму для столбца parks_nearest\n",
        "df['parks_nearest'].max()\n",
        "df['parks_nearest'].hist(bins=150, range=(0,1000));"
      ],
      "metadata": {
        "colab": {
          "base_uri": "https://localhost:8080/",
          "height": 265
        },
        "id": "oPyyPZ0G9q-x",
        "outputId": "5384af1f-20da-40ad-ab86-e25e30818dee"
      },
      "execution_count": null,
      "outputs": [
        {
          "output_type": "display_data",
          "data": {
            "text/plain": [
              "<Figure size 432x288 with 1 Axes>"
            ],
            "image/png": "[encoded data removed]"
          },
          "metadata": {
            "needs_background": "light"
          }
        }
      ]
    },
    {
      "cell_type": "markdown",
      "source": [
        "на этапе предобработки было выявлено, что в 65% данных не было информации о расстоянии до ближайшего парка, возможно это связано с отсутствием парка в радиусе несколько км и поэтому программа оставила пропуски. По тем данным, которые были в наличии можно сделать вывод, что часть недвижимости расположена на расстоянии 100-200м и далее к парку."
      ],
      "metadata": {
        "id": "z0lqN_SH90Af"
      }
    },
    {
      "cell_type": "code",
      "source": [
        "# построим гистограмму для столбца weekday\n",
        "df['weekday'].hist();"
      ],
      "metadata": {
        "colab": {
          "base_uri": "https://localhost:8080/",
          "height": 265
        },
        "id": "2l058uZ09xfA",
        "outputId": "3a07965a-647f-45ff-b47d-000939162865"
      },
      "execution_count": null,
      "outputs": [
        {
          "output_type": "display_data",
          "data": {
            "text/plain": [
              "<Figure size 432x288 with 1 Axes>"
            ],
            "image/png": "[encoded data removed]"
          },
          "metadata": {
            "needs_background": "light"
          }
        }
      ]
    },
    {
      "cell_type": "markdown",
      "source": [
        "по данным из столбца weekday видим, что объявления размещаются в основном с Пн по Пт"
      ],
      "metadata": {
        "id": "qrRDyDYH96KB"
      }
    },
    {
      "cell_type": "code",
      "source": [
        "# построим гистограмму для столбца weekday\n",
        "df['month'].hist(bins=50);"
      ],
      "metadata": {
        "colab": {
          "base_uri": "https://localhost:8080/",
          "height": 265
        },
        "id": "CUf9RTEN9861",
        "outputId": "b90db5d9-8dff-4e51-dfcd-0da7aeccae5c"
      },
      "execution_count": null,
      "outputs": [
        {
          "output_type": "display_data",
          "data": {
            "text/plain": [
              "<Figure size 432x288 with 1 Axes>"
            ],
            "image/png": "[encoded data removed]"
          },
          "metadata": {
            "needs_background": "light"
          }
        }
      ]
    },
    {
      "cell_type": "markdown",
      "source": [
        "по данным из столбца month видим, что существует некая сезонность в публикации объявлений (с февраля по апрель и с сентября по декабрь)"
      ],
      "metadata": {
        "id": "la0Tv4rl-AhC"
      }
    },
    {
      "cell_type": "markdown",
      "source": [
        "## 2.2. Исследование количества дней продажи объекта недвижимости"
      ],
      "metadata": {
        "id": "9nGymo31-ESs"
      }
    },
    {
      "cell_type": "code",
      "source": [
        "# Изучим как быстро продавались квартиры с помощью числового описания данных\n",
        "df['days_exposition'].describe()"
      ],
      "metadata": {
        "colab": {
          "base_uri": "https://localhost:8080/"
        },
        "id": "-Fr1ewR-99U_",
        "outputId": "455582a7-9305-4313-df83-bbe6b1f364f6"
      },
      "execution_count": null,
      "outputs": [
        {
          "output_type": "execute_result",
          "data": {
            "text/plain": [
              "count     23698.000000\n",
              "mean     134387.217191\n",
              "std      340845.297208\n",
              "min           1.000000\n",
              "25%          45.000000\n",
              "50%         124.000000\n",
              "75%         390.000000\n",
              "max      999999.000000\n",
              "Name: days_exposition, dtype: float64"
            ]
          },
          "metadata": {},
          "execution_count": 54
        }
      ]
    },
    {
      "cell_type": "markdown",
      "source": [
        "Обратим внимание, что среднее в два раза больше медианы."
      ],
      "metadata": {
        "id": "UebEJWQF-KL1"
      }
    },
    {
      "cell_type": "code",
      "source": [
        "# Изучим как быстро продавались квартиры с помощью гистограммы\n",
        "df['days_exposition'].hist(bins=150, range=(0,1600));"
      ],
      "metadata": {
        "colab": {
          "base_uri": "https://localhost:8080/",
          "height": 265
        },
        "id": "xpeUabb6-HAd",
        "outputId": "185a9927-6025-47ea-f743-513a7ff25fd6"
      },
      "execution_count": null,
      "outputs": [
        {
          "output_type": "display_data",
          "data": {
            "text/plain": [
              "<Figure size 432x288 with 1 Axes>"
            ],
            "image/png": "[encoded data removed]"
          },
          "metadata": {
            "needs_background": "light"
          }
        }
      ]
    },
    {
      "cell_type": "markdown",
      "source": [
        "В распределении есть длинный хвост с высокими значениями. Это влияет на среднее, но не на медиану. Можно сделать вывод, что обычно продажа занимает до 95 дней. Продажи до 45 дней можно считать быстрыми, а свыше 230 дней — необычно долгими."
      ],
      "metadata": {
        "id": "E3qSAeiG-PBM"
      }
    },
    {
      "cell_type": "markdown",
      "source": [
        "## 2.3. Исследование факторов, влияющих на полную стоимость квартиры"
      ],
      "metadata": {
        "id": "Hh-Q-k2k-W1u"
      }
    },
    {
      "cell_type": "code",
      "source": [
        "# проверим зависимость между общей площадью и общей стоимости объекта недвижимости\n",
        "df['total_area'].corr(df['last_price'])"
      ],
      "metadata": {
        "colab": {
          "base_uri": "https://localhost:8080/"
        },
        "id": "91Uc5er8-McJ",
        "outputId": "e4b12365-d1c8-413f-95a6-b00b309e0f5e"
      },
      "execution_count": null,
      "outputs": [
        {
          "output_type": "execute_result",
          "data": {
            "text/plain": [
              "0.6537294473872792"
            ]
          },
          "metadata": {},
          "execution_count": 56
        }
      ]
    },
    {
      "cell_type": "markdown",
      "source": [
        "Корреляция в 0.65 говорит о наличии связи"
      ],
      "metadata": {
        "id": "ZwuNufAA-ck5"
      }
    },
    {
      "cell_type": "code",
      "source": [
        "# проверим зависимость между жилой площадью и общей стоимости объекта недвижимости\n",
        "df['living_area'].corr(df['last_price'])"
      ],
      "metadata": {
        "colab": {
          "base_uri": "https://localhost:8080/"
        },
        "id": "K_TahLGf-aLu",
        "outputId": "c4fdb3f0-0af7-4e1d-a031-bc045b149e64"
      },
      "execution_count": null,
      "outputs": [
        {
          "output_type": "execute_result",
          "data": {
            "text/plain": [
              "0.5407071606708928"
            ]
          },
          "metadata": {},
          "execution_count": 57
        }
      ]
    },
    {
      "cell_type": "code",
      "source": [
        "# построим график корреляции\n",
        "df.plot(x='last_price', y='living_area', kind='scatter', alpha=0.03);"
      ],
      "metadata": {
        "colab": {
          "base_uri": "https://localhost:8080/",
          "height": 280
        },
        "id": "c0foSBjD-fd6",
        "outputId": "e149f0ab-a569-4e8e-f7cd-4b32c799bcda"
      },
      "execution_count": null,
      "outputs": [
        {
          "output_type": "display_data",
          "data": {
            "text/plain": [
              "<Figure size 432x288 with 1 Axes>"
            ],
            "image/png": "[encoded data removed]"
          },
          "metadata": {
            "needs_background": "light"
          }
        }
      ]
    },
    {
      "cell_type": "markdown",
      "source": [
        "Корреляция в 0.54 говорит о наличии связи"
      ],
      "metadata": {
        "id": "WWQskYlS-kcz"
      }
    },
    {
      "cell_type": "code",
      "source": [
        "# проверим зависимость между площадью кухни и общей стоимости объекта недвижимости\n",
        "df['kitchen_area'].corr(df['last_price'])"
      ],
      "metadata": {
        "colab": {
          "base_uri": "https://localhost:8080/"
        },
        "id": "lQDDjiuX-h_t",
        "outputId": "3ac82c24-c85a-437f-c195-6fcde0f63cc2"
      },
      "execution_count": null,
      "outputs": [
        {
          "output_type": "execute_result",
          "data": {
            "text/plain": [
              "0.4403179888603011"
            ]
          },
          "metadata": {},
          "execution_count": 59
        }
      ]
    },
    {
      "cell_type": "code",
      "source": [
        "# построим график корреляции\n",
        "df.plot(x='last_price', y='kitchen_area', kind='scatter', alpha=0.03);"
      ],
      "metadata": {
        "colab": {
          "base_uri": "https://localhost:8080/",
          "height": 280
        },
        "id": "e-smjOZf-m6x",
        "outputId": "dddb13b5-9515-4f0c-de14-f7ce5ec1f492"
      },
      "execution_count": null,
      "outputs": [
        {
          "output_type": "display_data",
          "data": {
            "text/plain": [
              "<Figure size 432x288 with 1 Axes>"
            ],
            "image/png": "[encoded data removed]"
          },
          "metadata": {
            "needs_background": "light"
          }
        }
      ]
    },
    {
      "cell_type": "markdown",
      "source": [
        "Корреляция в 0.44 говорит о наличии связи, однако еще более слабой чем связь с жилой или общей площадью"
      ],
      "metadata": {
        "id": "_KHgg2MW-rJe"
      }
    },
    {
      "cell_type": "code",
      "source": [
        "# проверим зависимость между числом комнат и общей стоимости объекта недвижимости\n",
        "df['rooms'].corr(df['last_price'])"
      ],
      "metadata": {
        "colab": {
          "base_uri": "https://localhost:8080/"
        },
        "id": "kga7YMZ--ogo",
        "outputId": "f8efe1c9-83ea-4411-9d3f-3dc9ded8f0e5"
      },
      "execution_count": null,
      "outputs": [
        {
          "output_type": "execute_result",
          "data": {
            "text/plain": [
              "0.363387585291397"
            ]
          },
          "metadata": {},
          "execution_count": 61
        }
      ]
    },
    {
      "cell_type": "code",
      "source": [
        "# построим график корреляции\n",
        "df.plot(x='last_price', y='rooms', kind='hexbin', gridsize=30, figsize=(4, 4), sharex=False, grid=True);"
      ],
      "metadata": {
        "colab": {
          "base_uri": "https://localhost:8080/",
          "height": 284
        },
        "id": "1yS1YPxR-tVV",
        "outputId": "92648397-a275-45f4-d1a2-0c0436e4620a"
      },
      "execution_count": null,
      "outputs": [
        {
          "output_type": "display_data",
          "data": {
            "text/plain": [
              "<Figure size 288x288 with 2 Axes>"
            ],
            "image/png": "[encoded data removed]"
          },
          "metadata": {
            "needs_background": "light"
          }
        }
      ]
    },
    {
      "cell_type": "markdown",
      "source": [
        "Корреляция 0,36 говорит о наличии связи, однако не слишком сильной."
      ],
      "metadata": {
        "id": "dc917Mqt-ywf"
      }
    },
    {
      "cell_type": "code",
      "source": [
        "# проверим Динамика цен зависит от года размещения объявления\n",
        "year_corr = df.groupby('year')['last_price','total_area'].agg('median').reset_index()\n",
        "pd.plotting.scatter_matrix(year_corr, figsize=(10, 10));\n",
        "year_corr.corr()"
      ],
      "metadata": {
        "colab": {
          "base_uri": "https://localhost:8080/",
          "height": 798
        },
        "id": "XigIrEdQ-vR0",
        "outputId": "f7f8f201-3bce-49ca-fc0f-6d807f7d6c07"
      },
      "execution_count": null,
      "outputs": [
        {
          "output_type": "stream",
          "name": "stderr",
          "text": [
            "/usr/local/lib/python3.7/dist-packages/ipykernel_launcher.py:2: FutureWarning: Indexing with multiple keys (implicitly converted to a tuple of keys) will be deprecated, use a list instead.\n",
            "  \n"
          ]
        },
        {
          "output_type": "execute_result",
          "data": {
            "text/plain": [
              "                year  last_price  total_area\n",
              "year        1.000000   -0.681204   -0.817431\n",
              "last_price -0.681204    1.000000    0.978196\n",
              "total_area -0.817431    0.978196    1.000000"
            ],
            "text/html": [
              "\n",
              "  <div id=\"df-d9e0280f-554b-4791-92b3-b5b78b31be2e\">\n",
              "    <div class=\"colab-df-container\">\n",
              "      <div>\n",
              "<style scoped>\n",
              "    .dataframe tbody tr th:only-of-type {\n",
              "        vertical-align: middle;\n",
              "    }\n",
              "\n",
              "    .dataframe tbody tr th {\n",
              "        vertical-align: top;\n",
              "    }\n",
              "\n",
              "    .dataframe thead th {\n",
              "        text-align: right;\n",
              "    }\n",
              "</style>\n",
              "<table border=\"1\" class=\"dataframe\">\n",
              "  <thead>\n",
              "    <tr style=\"text-align: right;\">\n",
              "      <th></th>\n",
              "      <th>year</th>\n",
              "      <th>last_price</th>\n",
              "      <th>total_area</th>\n",
              "    </tr>\n",
              "  </thead>\n",
              "  <tbody>\n",
              "    <tr>\n",
              "      <th>year</th>\n",
              "      <td>1.000000</td>\n",
              "      <td>-0.681204</td>\n",
              "      <td>-0.817431</td>\n",
              "    </tr>\n",
              "    <tr>\n",
              "      <th>last_price</th>\n",
              "      <td>-0.681204</td>\n",
              "      <td>1.000000</td>\n",
              "      <td>0.978196</td>\n",
              "    </tr>\n",
              "    <tr>\n",
              "      <th>total_area</th>\n",
              "      <td>-0.817431</td>\n",
              "      <td>0.978196</td>\n",
              "      <td>1.000000</td>\n",
              "    </tr>\n",
              "  </tbody>\n",
              "</table>\n",
              "</div>\n",
              "      <button class=\"colab-df-convert\" onclick=\"convertToInteractive('df-d9e0280f-554b-4791-92b3-b5b78b31be2e')\"\n",
              "              title=\"Convert this dataframe to an interactive table.\"\n",
              "              style=\"display:none;\">\n",
              "        \n",
              "  <svg xmlns=\"http://www.w3.org/2000/svg\" height=\"24px\"viewBox=\"0 0 24 24\"\n",
              "       width=\"24px\">\n",
              "    <path d=\"M0 0h24v24H0V0z\" fill=\"none\"/>\n",
              "    <path d=\"M18.56 5.44l.94 2.06.94-2.06 2.06-.94-2.06-.94-.94-2.06-.94 2.06-2.06.94zm-11 1L8.5 8.5l.94-2.06 2.06-.94-2.06-.94L8.5 2.5l-.94 2.06-2.06.94zm10 10l.94 2.06.94-2.06 2.06-.94-2.06-.94-.94-2.06-.94 2.06-2.06.94z\"/><path d=\"M17.41 7.96l-1.37-1.37c-.4-.4-.92-.59-1.43-.59-.52 0-1.04.2-1.43.59L10.3 9.45l-7.72 7.72c-.78.78-.78 2.05 0 2.83L4 21.41c.39.39.9.59 1.41.59.51 0 1.02-.2 1.41-.59l7.78-7.78 2.81-2.81c.8-.78.8-2.07 0-2.86zM5.41 20L4 18.59l7.72-7.72 1.47 1.35L5.41 20z\"/>\n",
              "  </svg>\n",
              "      </button>\n",
              "      \n",
              "  <style>\n",
              "    .colab-df-container {\n",
              "      display:flex;\n",
              "      flex-wrap:wrap;\n",
              "      gap: 12px;\n",
              "    }\n",
              "\n",
              "    .colab-df-convert {\n",
              "      background-color: #E8F0FE;\n",
              "      border: none;\n",
              "      border-radius: 50%;\n",
              "      cursor: pointer;\n",
              "      display: none;\n",
              "      fill: #1967D2;\n",
              "      height: 32px;\n",
              "      padding: 0 0 0 0;\n",
              "      width: 32px;\n",
              "    }\n",
              "\n",
              "    .colab-df-convert:hover {\n",
              "      background-color: #E2EBFA;\n",
              "      box-shadow: 0px 1px 2px rgba(60, 64, 67, 0.3), 0px 1px 3px 1px rgba(60, 64, 67, 0.15);\n",
              "      fill: #174EA6;\n",
              "    }\n",
              "\n",
              "    [theme=dark] .colab-df-convert {\n",
              "      background-color: #3B4455;\n",
              "      fill: #D2E3FC;\n",
              "    }\n",
              "\n",
              "    [theme=dark] .colab-df-convert:hover {\n",
              "      background-color: #434B5C;\n",
              "      box-shadow: 0px 1px 3px 1px rgba(0, 0, 0, 0.15);\n",
              "      filter: drop-shadow(0px 1px 2px rgba(0, 0, 0, 0.3));\n",
              "      fill: #FFFFFF;\n",
              "    }\n",
              "  </style>\n",
              "\n",
              "      <script>\n",
              "        const buttonEl =\n",
              "          document.querySelector('#df-d9e0280f-554b-4791-92b3-b5b78b31be2e button.colab-df-convert');\n",
              "        buttonEl.style.display =\n",
              "          google.colab.kernel.accessAllowed ? 'block' : 'none';\n",
              "\n",
              "        async function convertToInteractive(key) {\n",
              "          const element = document.querySelector('#df-d9e0280f-554b-4791-92b3-b5b78b31be2e');\n",
              "          const dataTable =\n",
              "            await google.colab.kernel.invokeFunction('convertToInteractive',\n",
              "                                                     [key], {});\n",
              "          if (!dataTable) return;\n",
              "\n",
              "          const docLinkHtml = 'Like what you see? Visit the ' +\n",
              "            '<a target=\"_blank\" href=https://colab.research.google.com/notebooks/data_table.ipynb>data table notebook</a>'\n",
              "            + ' to learn more about interactive tables.';\n",
              "          element.innerHTML = '';\n",
              "          dataTable['output_type'] = 'display_data';\n",
              "          await google.colab.output.renderOutput(dataTable, element);\n",
              "          const docLink = document.createElement('div');\n",
              "          docLink.innerHTML = docLinkHtml;\n",
              "          element.appendChild(docLink);\n",
              "        }\n",
              "      </script>\n",
              "    </div>\n",
              "  </div>\n",
              "  "
            ]
          },
          "metadata": {},
          "execution_count": 63
        },
        {
          "output_type": "display_data",
          "data": {
            "text/plain": [
              "<Figure size 720x720 with 9 Axes>"
            ],
            "image/png": "[encoded data removed]"
          },
          "metadata": {
            "needs_background": "light"
          }
        }
      ]
    },
    {
      "cell_type": "markdown",
      "source": [
        "зависимости от года размещения объявления нет"
      ],
      "metadata": {
        "id": "MAoQoQkg_XbF"
      }
    },
    {
      "cell_type": "code",
      "source": [
        "# проверим Динамика цен зависит от месяца размещения объявления\n",
        "month_pivot = df.pivot_table(index='month',values='price_one_area',aggfunc='median').plot(grid=True, figsize=(10, 5))"
      ],
      "metadata": {
        "colab": {
          "base_uri": "https://localhost:8080/",
          "height": 334
        },
        "id": "_QtW3uKc_A3J",
        "outputId": "25297466-4329-4243-dd8d-5be7a9513c95"
      },
      "execution_count": null,
      "outputs": [
        {
          "output_type": "display_data",
          "data": {
            "text/plain": [
              "<Figure size 720x360 with 1 Axes>"
            ],
            "image/png": "[encoded data removed]"
          },
          "metadata": {
            "needs_background": "light"
          }
        }
      ]
    },
    {
      "cell_type": "markdown",
      "source": [
        "Пик стоимости приходится на апрель, далее спад (предполагаю влияет сезон отпусков)"
      ],
      "metadata": {
        "id": "tDF5kLOb_g89"
      }
    },
    {
      "cell_type": "code",
      "source": [
        "# проверим Динамика цен зависит от дня недели размещения объявления\n",
        "weekday_pivot = df.pivot_table(index='weekday',values='price_one_area',aggfunc='median').plot(grid=True, figsize=(10, 5))"
      ],
      "metadata": {
        "colab": {
          "base_uri": "https://localhost:8080/",
          "height": 334
        },
        "id": "UMF0STes_ele",
        "outputId": "934a1cf9-424c-406e-b8ed-7dcc3950da97"
      },
      "execution_count": null,
      "outputs": [
        {
          "output_type": "display_data",
          "data": {
            "text/plain": [
              "<Figure size 720x360 with 1 Axes>"
            ],
            "image/png": "[encoded data removed]"
          },
          "metadata": {
            "needs_background": "light"
          }
        }
      ]
    },
    {
      "cell_type": "markdown",
      "source": [
        "Пик стоимости приходится на вторник, далее наблюдается спад"
      ],
      "metadata": {
        "id": "WVgmvAdK_pz7"
      }
    },
    {
      "cell_type": "code",
      "source": [
        "# посчитаем среднюю цену одного квадратного метра в 10 населённых пунктах с наибольшим числом объявлений\n",
        "big_locality_pivot = df.pivot_table(index='locality_name',values='price_one_area',aggfunc='count')\n",
        "big_locality_pivot.columns=['count_ads']\n",
        "price_one_area_pivot = df.pivot_table(index='locality_name',values='price_one_area',aggfunc='median')\n",
        "general_pivot = big_locality_pivot.merge(price_one_area_pivot,on='locality_name', how='outer')\n",
        "general_pivot.sort_values(by='count_ads',ascending=False).head(10)"
      ],
      "metadata": {
        "colab": {
          "base_uri": "https://localhost:8080/",
          "height": 394
        },
        "id": "HWH6EjVS_m6D",
        "outputId": "200d8a4a-1364-42b3-de10-36c70a8c2f4c"
      },
      "execution_count": null,
      "outputs": [
        {
          "output_type": "execute_result",
          "data": {
            "text/plain": [
              "                   count_ads  price_one_area\n",
              "locality_name                               \n",
              "Санкт-Петербург        15720   104761.904762\n",
              "Мурино                   590    86175.643522\n",
              "Кудрово                  472    95675.473579\n",
              "поселок Шушары           440    76876.172608\n",
              "Всеволожск               398    65789.473684\n",
              "Пушкин                   369   100000.000000\n",
              "Колпино                  338    74723.748474\n",
              "поселок Парголово        327    91642.857143\n",
              "Гатчина                  307    67796.610169\n",
              "Выборг                   237    58158.319871"
            ],
            "text/html": [
              "\n",
              "  <div id=\"df-93181bf5-16d2-4131-a777-2a968deb4e5c\">\n",
              "    <div class=\"colab-df-container\">\n",
              "      <div>\n",
              "<style scoped>\n",
              "    .dataframe tbody tr th:only-of-type {\n",
              "        vertical-align: middle;\n",
              "    }\n",
              "\n",
              "    .dataframe tbody tr th {\n",
              "        vertical-align: top;\n",
              "    }\n",
              "\n",
              "    .dataframe thead th {\n",
              "        text-align: right;\n",
              "    }\n",
              "</style>\n",
              "<table border=\"1\" class=\"dataframe\">\n",
              "  <thead>\n",
              "    <tr style=\"text-align: right;\">\n",
              "      <th></th>\n",
              "      <th>count_ads</th>\n",
              "      <th>price_one_area</th>\n",
              "    </tr>\n",
              "    <tr>\n",
              "      <th>locality_name</th>\n",
              "      <th></th>\n",
              "      <th></th>\n",
              "    </tr>\n",
              "  </thead>\n",
              "  <tbody>\n",
              "    <tr>\n",
              "      <th>Санкт-Петербург</th>\n",
              "      <td>15720</td>\n",
              "      <td>104761.904762</td>\n",
              "    </tr>\n",
              "    <tr>\n",
              "      <th>Мурино</th>\n",
              "      <td>590</td>\n",
              "      <td>86175.643522</td>\n",
              "    </tr>\n",
              "    <tr>\n",
              "      <th>Кудрово</th>\n",
              "      <td>472</td>\n",
              "      <td>95675.473579</td>\n",
              "    </tr>\n",
              "    <tr>\n",
              "      <th>поселок Шушары</th>\n",
              "      <td>440</td>\n",
              "      <td>76876.172608</td>\n",
              "    </tr>\n",
              "    <tr>\n",
              "      <th>Всеволожск</th>\n",
              "      <td>398</td>\n",
              "      <td>65789.473684</td>\n",
              "    </tr>\n",
              "    <tr>\n",
              "      <th>Пушкин</th>\n",
              "      <td>369</td>\n",
              "      <td>100000.000000</td>\n",
              "    </tr>\n",
              "    <tr>\n",
              "      <th>Колпино</th>\n",
              "      <td>338</td>\n",
              "      <td>74723.748474</td>\n",
              "    </tr>\n",
              "    <tr>\n",
              "      <th>поселок Парголово</th>\n",
              "      <td>327</td>\n",
              "      <td>91642.857143</td>\n",
              "    </tr>\n",
              "    <tr>\n",
              "      <th>Гатчина</th>\n",
              "      <td>307</td>\n",
              "      <td>67796.610169</td>\n",
              "    </tr>\n",
              "    <tr>\n",
              "      <th>Выборг</th>\n",
              "      <td>237</td>\n",
              "      <td>58158.319871</td>\n",
              "    </tr>\n",
              "  </tbody>\n",
              "</table>\n",
              "</div>\n",
              "      <button class=\"colab-df-convert\" onclick=\"convertToInteractive('df-93181bf5-16d2-4131-a777-2a968deb4e5c')\"\n",
              "              title=\"Convert this dataframe to an interactive table.\"\n",
              "              style=\"display:none;\">\n",
              "        \n",
              "  <svg xmlns=\"http://www.w3.org/2000/svg\" height=\"24px\"viewBox=\"0 0 24 24\"\n",
              "       width=\"24px\">\n",
              "    <path d=\"M0 0h24v24H0V0z\" fill=\"none\"/>\n",
              "    <path d=\"M18.56 5.44l.94 2.06.94-2.06 2.06-.94-2.06-.94-.94-2.06-.94 2.06-2.06.94zm-11 1L8.5 8.5l.94-2.06 2.06-.94-2.06-.94L8.5 2.5l-.94 2.06-2.06.94zm10 10l.94 2.06.94-2.06 2.06-.94-2.06-.94-.94-2.06-.94 2.06-2.06.94z\"/><path d=\"M17.41 7.96l-1.37-1.37c-.4-.4-.92-.59-1.43-.59-.52 0-1.04.2-1.43.59L10.3 9.45l-7.72 7.72c-.78.78-.78 2.05 0 2.83L4 21.41c.39.39.9.59 1.41.59.51 0 1.02-.2 1.41-.59l7.78-7.78 2.81-2.81c.8-.78.8-2.07 0-2.86zM5.41 20L4 18.59l7.72-7.72 1.47 1.35L5.41 20z\"/>\n",
              "  </svg>\n",
              "      </button>\n",
              "      \n",
              "  <style>\n",
              "    .colab-df-container {\n",
              "      display:flex;\n",
              "      flex-wrap:wrap;\n",
              "      gap: 12px;\n",
              "    }\n",
              "\n",
              "    .colab-df-convert {\n",
              "      background-color: #E8F0FE;\n",
              "      border: none;\n",
              "      border-radius: 50%;\n",
              "      cursor: pointer;\n",
              "      display: none;\n",
              "      fill: #1967D2;\n",
              "      height: 32px;\n",
              "      padding: 0 0 0 0;\n",
              "      width: 32px;\n",
              "    }\n",
              "\n",
              "    .colab-df-convert:hover {\n",
              "      background-color: #E2EBFA;\n",
              "      box-shadow: 0px 1px 2px rgba(60, 64, 67, 0.3), 0px 1px 3px 1px rgba(60, 64, 67, 0.15);\n",
              "      fill: #174EA6;\n",
              "    }\n",
              "\n",
              "    [theme=dark] .colab-df-convert {\n",
              "      background-color: #3B4455;\n",
              "      fill: #D2E3FC;\n",
              "    }\n",
              "\n",
              "    [theme=dark] .colab-df-convert:hover {\n",
              "      background-color: #434B5C;\n",
              "      box-shadow: 0px 1px 3px 1px rgba(0, 0, 0, 0.15);\n",
              "      filter: drop-shadow(0px 1px 2px rgba(0, 0, 0, 0.3));\n",
              "      fill: #FFFFFF;\n",
              "    }\n",
              "  </style>\n",
              "\n",
              "      <script>\n",
              "        const buttonEl =\n",
              "          document.querySelector('#df-93181bf5-16d2-4131-a777-2a968deb4e5c button.colab-df-convert');\n",
              "        buttonEl.style.display =\n",
              "          google.colab.kernel.accessAllowed ? 'block' : 'none';\n",
              "\n",
              "        async function convertToInteractive(key) {\n",
              "          const element = document.querySelector('#df-93181bf5-16d2-4131-a777-2a968deb4e5c');\n",
              "          const dataTable =\n",
              "            await google.colab.kernel.invokeFunction('convertToInteractive',\n",
              "                                                     [key], {});\n",
              "          if (!dataTable) return;\n",
              "\n",
              "          const docLinkHtml = 'Like what you see? Visit the ' +\n",
              "            '<a target=\"_blank\" href=https://colab.research.google.com/notebooks/data_table.ipynb>data table notebook</a>'\n",
              "            + ' to learn more about interactive tables.';\n",
              "          element.innerHTML = '';\n",
              "          dataTable['output_type'] = 'display_data';\n",
              "          await google.colab.output.renderOutput(dataTable, element);\n",
              "          const docLink = document.createElement('div');\n",
              "          docLink.innerHTML = docLinkHtml;\n",
              "          element.appendChild(docLink);\n",
              "        }\n",
              "      </script>\n",
              "    </div>\n",
              "  </div>\n",
              "  "
            ]
          },
          "metadata": {},
          "execution_count": 66
        }
      ]
    },
    {
      "cell_type": "markdown",
      "source": [
        "самой \"популярной\" локацией с наибольшим количеством объявлений является Санкт-Петербург с ценой за 1кв.м. 115 тыс."
      ],
      "metadata": {
        "id": "bSXZsCWx_y5t"
      }
    },
    {
      "cell_type": "code",
      "source": [
        "# выделим населённые пункты с самой низкой стоимостью квадратного метра\n",
        "general_pivot.sort_values(by='price_one_area').head(10)"
      ],
      "metadata": {
        "colab": {
          "base_uri": "https://localhost:8080/",
          "height": 394
        },
        "id": "J20yDPbZ_soG",
        "outputId": "374e73cf-9efe-4087-e3d4-f4fec1ceaea8"
      },
      "execution_count": null,
      "outputs": [
        {
          "output_type": "execute_result",
          "data": {
            "text/plain": [
              "                         count_ads  price_one_area\n",
              "locality_name                                     \n",
              "деревня Старополье               3    11000.000000\n",
              "поселок станции Свирь            2    11481.481481\n",
              "деревня Вахнова Кара             1    11688.311688\n",
              "деревня Выскатка                 2    12335.480902\n",
              "поселок Совхозный                2    12629.129129\n",
              "деревня Малая Романовка          1    12724.550898\n",
              "поселок Тесово-4                 1    12931.034483\n",
              "деревня Сижно                    1    13709.677419\n",
              "деревня Ям-Тесово                2    13711.553373\n",
              "поселок Житково                  2    14956.275202"
            ],
            "text/html": [
              "\n",
              "  <div id=\"df-d029a7f0-5aec-4d8d-991b-caeda7e88ee5\">\n",
              "    <div class=\"colab-df-container\">\n",
              "      <div>\n",
              "<style scoped>\n",
              "    .dataframe tbody tr th:only-of-type {\n",
              "        vertical-align: middle;\n",
              "    }\n",
              "\n",
              "    .dataframe tbody tr th {\n",
              "        vertical-align: top;\n",
              "    }\n",
              "\n",
              "    .dataframe thead th {\n",
              "        text-align: right;\n",
              "    }\n",
              "</style>\n",
              "<table border=\"1\" class=\"dataframe\">\n",
              "  <thead>\n",
              "    <tr style=\"text-align: right;\">\n",
              "      <th></th>\n",
              "      <th>count_ads</th>\n",
              "      <th>price_one_area</th>\n",
              "    </tr>\n",
              "    <tr>\n",
              "      <th>locality_name</th>\n",
              "      <th></th>\n",
              "      <th></th>\n",
              "    </tr>\n",
              "  </thead>\n",
              "  <tbody>\n",
              "    <tr>\n",
              "      <th>деревня Старополье</th>\n",
              "      <td>3</td>\n",
              "      <td>11000.000000</td>\n",
              "    </tr>\n",
              "    <tr>\n",
              "      <th>поселок станции Свирь</th>\n",
              "      <td>2</td>\n",
              "      <td>11481.481481</td>\n",
              "    </tr>\n",
              "    <tr>\n",
              "      <th>деревня Вахнова Кара</th>\n",
              "      <td>1</td>\n",
              "      <td>11688.311688</td>\n",
              "    </tr>\n",
              "    <tr>\n",
              "      <th>деревня Выскатка</th>\n",
              "      <td>2</td>\n",
              "      <td>12335.480902</td>\n",
              "    </tr>\n",
              "    <tr>\n",
              "      <th>поселок Совхозный</th>\n",
              "      <td>2</td>\n",
              "      <td>12629.129129</td>\n",
              "    </tr>\n",
              "    <tr>\n",
              "      <th>деревня Малая Романовка</th>\n",
              "      <td>1</td>\n",
              "      <td>12724.550898</td>\n",
              "    </tr>\n",
              "    <tr>\n",
              "      <th>поселок Тесово-4</th>\n",
              "      <td>1</td>\n",
              "      <td>12931.034483</td>\n",
              "    </tr>\n",
              "    <tr>\n",
              "      <th>деревня Сижно</th>\n",
              "      <td>1</td>\n",
              "      <td>13709.677419</td>\n",
              "    </tr>\n",
              "    <tr>\n",
              "      <th>деревня Ям-Тесово</th>\n",
              "      <td>2</td>\n",
              "      <td>13711.553373</td>\n",
              "    </tr>\n",
              "    <tr>\n",
              "      <th>поселок Житково</th>\n",
              "      <td>2</td>\n",
              "      <td>14956.275202</td>\n",
              "    </tr>\n",
              "  </tbody>\n",
              "</table>\n",
              "</div>\n",
              "      <button class=\"colab-df-convert\" onclick=\"convertToInteractive('df-d029a7f0-5aec-4d8d-991b-caeda7e88ee5')\"\n",
              "              title=\"Convert this dataframe to an interactive table.\"\n",
              "              style=\"display:none;\">\n",
              "        \n",
              "  <svg xmlns=\"http://www.w3.org/2000/svg\" height=\"24px\"viewBox=\"0 0 24 24\"\n",
              "       width=\"24px\">\n",
              "    <path d=\"M0 0h24v24H0V0z\" fill=\"none\"/>\n",
              "    <path d=\"M18.56 5.44l.94 2.06.94-2.06 2.06-.94-2.06-.94-.94-2.06-.94 2.06-2.06.94zm-11 1L8.5 8.5l.94-2.06 2.06-.94-2.06-.94L8.5 2.5l-.94 2.06-2.06.94zm10 10l.94 2.06.94-2.06 2.06-.94-2.06-.94-.94-2.06-.94 2.06-2.06.94z\"/><path d=\"M17.41 7.96l-1.37-1.37c-.4-.4-.92-.59-1.43-.59-.52 0-1.04.2-1.43.59L10.3 9.45l-7.72 7.72c-.78.78-.78 2.05 0 2.83L4 21.41c.39.39.9.59 1.41.59.51 0 1.02-.2 1.41-.59l7.78-7.78 2.81-2.81c.8-.78.8-2.07 0-2.86zM5.41 20L4 18.59l7.72-7.72 1.47 1.35L5.41 20z\"/>\n",
              "  </svg>\n",
              "      </button>\n",
              "      \n",
              "  <style>\n",
              "    .colab-df-container {\n",
              "      display:flex;\n",
              "      flex-wrap:wrap;\n",
              "      gap: 12px;\n",
              "    }\n",
              "\n",
              "    .colab-df-convert {\n",
              "      background-color: #E8F0FE;\n",
              "      border: none;\n",
              "      border-radius: 50%;\n",
              "      cursor: pointer;\n",
              "      display: none;\n",
              "      fill: #1967D2;\n",
              "      height: 32px;\n",
              "      padding: 0 0 0 0;\n",
              "      width: 32px;\n",
              "    }\n",
              "\n",
              "    .colab-df-convert:hover {\n",
              "      background-color: #E2EBFA;\n",
              "      box-shadow: 0px 1px 2px rgba(60, 64, 67, 0.3), 0px 1px 3px 1px rgba(60, 64, 67, 0.15);\n",
              "      fill: #174EA6;\n",
              "    }\n",
              "\n",
              "    [theme=dark] .colab-df-convert {\n",
              "      background-color: #3B4455;\n",
              "      fill: #D2E3FC;\n",
              "    }\n",
              "\n",
              "    [theme=dark] .colab-df-convert:hover {\n",
              "      background-color: #434B5C;\n",
              "      box-shadow: 0px 1px 3px 1px rgba(0, 0, 0, 0.15);\n",
              "      filter: drop-shadow(0px 1px 2px rgba(0, 0, 0, 0.3));\n",
              "      fill: #FFFFFF;\n",
              "    }\n",
              "  </style>\n",
              "\n",
              "      <script>\n",
              "        const buttonEl =\n",
              "          document.querySelector('#df-d029a7f0-5aec-4d8d-991b-caeda7e88ee5 button.colab-df-convert');\n",
              "        buttonEl.style.display =\n",
              "          google.colab.kernel.accessAllowed ? 'block' : 'none';\n",
              "\n",
              "        async function convertToInteractive(key) {\n",
              "          const element = document.querySelector('#df-d029a7f0-5aec-4d8d-991b-caeda7e88ee5');\n",
              "          const dataTable =\n",
              "            await google.colab.kernel.invokeFunction('convertToInteractive',\n",
              "                                                     [key], {});\n",
              "          if (!dataTable) return;\n",
              "\n",
              "          const docLinkHtml = 'Like what you see? Visit the ' +\n",
              "            '<a target=\"_blank\" href=https://colab.research.google.com/notebooks/data_table.ipynb>data table notebook</a>'\n",
              "            + ' to learn more about interactive tables.';\n",
              "          element.innerHTML = '';\n",
              "          dataTable['output_type'] = 'display_data';\n",
              "          await google.colab.output.renderOutput(dataTable, element);\n",
              "          const docLink = document.createElement('div');\n",
              "          docLink.innerHTML = docLinkHtml;\n",
              "          element.appendChild(docLink);\n",
              "        }\n",
              "      </script>\n",
              "    </div>\n",
              "  </div>\n",
              "  "
            ]
          },
          "metadata": {},
          "execution_count": 67
        }
      ]
    },
    {
      "cell_type": "markdown",
      "source": [
        "самая низкая стоимость зафиксирована в деревне Старополье, которая составляет 11 тыс за 1кв.м."
      ],
      "metadata": {
        "id": "kZjgBkPT_3bj"
      }
    },
    {
      "cell_type": "code",
      "source": [
        "# выделим населённые пункты с самой высокой стоимостью квадратного метра\n",
        "general_pivot.sort_values(by='price_one_area',ascending=False).head(10)"
      ],
      "metadata": {
        "colab": {
          "base_uri": "https://localhost:8080/",
          "height": 394
        },
        "id": "mGtc58rK_1KF",
        "outputId": "ba0e17aa-c98e-4c05-c1a3-503883c2c963"
      },
      "execution_count": null,
      "outputs": [
        {
          "output_type": "execute_result",
          "data": {
            "text/plain": [
              "                   count_ads  price_one_area\n",
              "locality_name                               \n",
              "Санкт-Петербург        15720   104761.904762\n",
              "Зеленогорск               24   101666.666667\n",
              "Пушкин                   369   100000.000000\n",
              "Сестрорецк               183    99678.456592\n",
              "поселок Левашово           1    96997.690531\n",
              "Кудрово                  472    95675.473579\n",
              "поселок Парголово        327    91642.857143\n",
              "деревня Мистолово         11    90888.888889\n",
              "Без названия              49    89772.727273\n",
              "поселок Стрельна          44    87498.418722"
            ],
            "text/html": [
              "\n",
              "  <div id=\"df-387bf1e8-b388-427b-ba0e-b3387d3936f4\">\n",
              "    <div class=\"colab-df-container\">\n",
              "      <div>\n",
              "<style scoped>\n",
              "    .dataframe tbody tr th:only-of-type {\n",
              "        vertical-align: middle;\n",
              "    }\n",
              "\n",
              "    .dataframe tbody tr th {\n",
              "        vertical-align: top;\n",
              "    }\n",
              "\n",
              "    .dataframe thead th {\n",
              "        text-align: right;\n",
              "    }\n",
              "</style>\n",
              "<table border=\"1\" class=\"dataframe\">\n",
              "  <thead>\n",
              "    <tr style=\"text-align: right;\">\n",
              "      <th></th>\n",
              "      <th>count_ads</th>\n",
              "      <th>price_one_area</th>\n",
              "    </tr>\n",
              "    <tr>\n",
              "      <th>locality_name</th>\n",
              "      <th></th>\n",
              "      <th></th>\n",
              "    </tr>\n",
              "  </thead>\n",
              "  <tbody>\n",
              "    <tr>\n",
              "      <th>Санкт-Петербург</th>\n",
              "      <td>15720</td>\n",
              "      <td>104761.904762</td>\n",
              "    </tr>\n",
              "    <tr>\n",
              "      <th>Зеленогорск</th>\n",
              "      <td>24</td>\n",
              "      <td>101666.666667</td>\n",
              "    </tr>\n",
              "    <tr>\n",
              "      <th>Пушкин</th>\n",
              "      <td>369</td>\n",
              "      <td>100000.000000</td>\n",
              "    </tr>\n",
              "    <tr>\n",
              "      <th>Сестрорецк</th>\n",
              "      <td>183</td>\n",
              "      <td>99678.456592</td>\n",
              "    </tr>\n",
              "    <tr>\n",
              "      <th>поселок Левашово</th>\n",
              "      <td>1</td>\n",
              "      <td>96997.690531</td>\n",
              "    </tr>\n",
              "    <tr>\n",
              "      <th>Кудрово</th>\n",
              "      <td>472</td>\n",
              "      <td>95675.473579</td>\n",
              "    </tr>\n",
              "    <tr>\n",
              "      <th>поселок Парголово</th>\n",
              "      <td>327</td>\n",
              "      <td>91642.857143</td>\n",
              "    </tr>\n",
              "    <tr>\n",
              "      <th>деревня Мистолово</th>\n",
              "      <td>11</td>\n",
              "      <td>90888.888889</td>\n",
              "    </tr>\n",
              "    <tr>\n",
              "      <th>Без названия</th>\n",
              "      <td>49</td>\n",
              "      <td>89772.727273</td>\n",
              "    </tr>\n",
              "    <tr>\n",
              "      <th>поселок Стрельна</th>\n",
              "      <td>44</td>\n",
              "      <td>87498.418722</td>\n",
              "    </tr>\n",
              "  </tbody>\n",
              "</table>\n",
              "</div>\n",
              "      <button class=\"colab-df-convert\" onclick=\"convertToInteractive('df-387bf1e8-b388-427b-ba0e-b3387d3936f4')\"\n",
              "              title=\"Convert this dataframe to an interactive table.\"\n",
              "              style=\"display:none;\">\n",
              "        \n",
              "  <svg xmlns=\"http://www.w3.org/2000/svg\" height=\"24px\"viewBox=\"0 0 24 24\"\n",
              "       width=\"24px\">\n",
              "    <path d=\"M0 0h24v24H0V0z\" fill=\"none\"/>\n",
              "    <path d=\"M18.56 5.44l.94 2.06.94-2.06 2.06-.94-2.06-.94-.94-2.06-.94 2.06-2.06.94zm-11 1L8.5 8.5l.94-2.06 2.06-.94-2.06-.94L8.5 2.5l-.94 2.06-2.06.94zm10 10l.94 2.06.94-2.06 2.06-.94-2.06-.94-.94-2.06-.94 2.06-2.06.94z\"/><path d=\"M17.41 7.96l-1.37-1.37c-.4-.4-.92-.59-1.43-.59-.52 0-1.04.2-1.43.59L10.3 9.45l-7.72 7.72c-.78.78-.78 2.05 0 2.83L4 21.41c.39.39.9.59 1.41.59.51 0 1.02-.2 1.41-.59l7.78-7.78 2.81-2.81c.8-.78.8-2.07 0-2.86zM5.41 20L4 18.59l7.72-7.72 1.47 1.35L5.41 20z\"/>\n",
              "  </svg>\n",
              "      </button>\n",
              "      \n",
              "  <style>\n",
              "    .colab-df-container {\n",
              "      display:flex;\n",
              "      flex-wrap:wrap;\n",
              "      gap: 12px;\n",
              "    }\n",
              "\n",
              "    .colab-df-convert {\n",
              "      background-color: #E8F0FE;\n",
              "      border: none;\n",
              "      border-radius: 50%;\n",
              "      cursor: pointer;\n",
              "      display: none;\n",
              "      fill: #1967D2;\n",
              "      height: 32px;\n",
              "      padding: 0 0 0 0;\n",
              "      width: 32px;\n",
              "    }\n",
              "\n",
              "    .colab-df-convert:hover {\n",
              "      background-color: #E2EBFA;\n",
              "      box-shadow: 0px 1px 2px rgba(60, 64, 67, 0.3), 0px 1px 3px 1px rgba(60, 64, 67, 0.15);\n",
              "      fill: #174EA6;\n",
              "    }\n",
              "\n",
              "    [theme=dark] .colab-df-convert {\n",
              "      background-color: #3B4455;\n",
              "      fill: #D2E3FC;\n",
              "    }\n",
              "\n",
              "    [theme=dark] .colab-df-convert:hover {\n",
              "      background-color: #434B5C;\n",
              "      box-shadow: 0px 1px 3px 1px rgba(0, 0, 0, 0.15);\n",
              "      filter: drop-shadow(0px 1px 2px rgba(0, 0, 0, 0.3));\n",
              "      fill: #FFFFFF;\n",
              "    }\n",
              "  </style>\n",
              "\n",
              "      <script>\n",
              "        const buttonEl =\n",
              "          document.querySelector('#df-387bf1e8-b388-427b-ba0e-b3387d3936f4 button.colab-df-convert');\n",
              "        buttonEl.style.display =\n",
              "          google.colab.kernel.accessAllowed ? 'block' : 'none';\n",
              "\n",
              "        async function convertToInteractive(key) {\n",
              "          const element = document.querySelector('#df-387bf1e8-b388-427b-ba0e-b3387d3936f4');\n",
              "          const dataTable =\n",
              "            await google.colab.kernel.invokeFunction('convertToInteractive',\n",
              "                                                     [key], {});\n",
              "          if (!dataTable) return;\n",
              "\n",
              "          const docLinkHtml = 'Like what you see? Visit the ' +\n",
              "            '<a target=\"_blank\" href=https://colab.research.google.com/notebooks/data_table.ipynb>data table notebook</a>'\n",
              "            + ' to learn more about interactive tables.';\n",
              "          element.innerHTML = '';\n",
              "          dataTable['output_type'] = 'display_data';\n",
              "          await google.colab.output.renderOutput(dataTable, element);\n",
              "          const docLink = document.createElement('div');\n",
              "          docLink.innerHTML = docLinkHtml;\n",
              "          element.appendChild(docLink);\n",
              "        }\n",
              "      </script>\n",
              "    </div>\n",
              "  </div>\n",
              "  "
            ]
          },
          "metadata": {},
          "execution_count": 68
        }
      ]
    },
    {
      "cell_type": "markdown",
      "source": [
        "самая высокая стоимость зафиксирована в Зеленогорске, которая составляет 115 тыс за 1кв.м."
      ],
      "metadata": {
        "id": "_undusIw__Nd"
      }
    },
    {
      "cell_type": "code",
      "source": [
        "# рассмотрим как стоимость объектов зависит от расстояния до центра города\n",
        "spb = df.query('locality_name == \"Санкт-Петербург\" and cityCenters_nearest<999')\n",
        "spb.groupby('cityCenters_nearest')['price_one_area'].mean().sort_values(ascending=False).plot(grid=True, figsize=(10, 5));"
      ],
      "metadata": {
        "colab": {
          "base_uri": "https://localhost:8080/",
          "height": 335
        },
        "id": "9hW1-gS9_-ZC",
        "outputId": "e62fb483-4a75-46da-aa0d-1491f7d6591f"
      },
      "execution_count": null,
      "outputs": [
        {
          "output_type": "display_data",
          "data": {
            "text/plain": [
              "<Figure size 720x360 with 1 Axes>"
            ],
            "image/png": "[encoded data removed]"
          },
          "metadata": {
            "needs_background": "light"
          }
        }
      ]
    },
    {
      "cell_type": "markdown",
      "source": [
        "Чем ближе к центру города расположена недвижимость, тем цена за кв.м. выше"
      ],
      "metadata": {
        "id": "xf9t8t4iAG_A"
      }
    },
    {
      "cell_type": "code",
      "source": [
        "# рассмотрим как стоимость объектов зависит от расстояния до центра города\n",
        "spb = df.query('locality_name == \"Санкт-Петербург\" and cityCenters_nearest<999')\n",
        "spb.groupby('cityCenters_nearest')['price_one_area'].mean().plot(grid=True, figsize=(10, 5));"
      ],
      "metadata": {
        "colab": {
          "base_uri": "https://localhost:8080/",
          "height": 335
        },
        "id": "QG_PZ42jADTS",
        "outputId": "e72add65-6a2b-4cc8-ddcf-445f3cc4a8bf"
      },
      "execution_count": null,
      "outputs": [
        {
          "output_type": "display_data",
          "data": {
            "text/plain": [
              "<Figure size 720x360 with 1 Axes>"
            ],
            "image/png": "[encoded data removed]"
          },
          "metadata": {
            "needs_background": "light"
          }
        }
      ]
    },
    {
      "cell_type": "markdown",
      "source": [
        "# 3. Вывод"
      ],
      "metadata": {
        "id": "D1RCrBi4ARi9"
      }
    },
    {
      "cell_type": "markdown",
      "source": [
        "Исходя из полученных данных и проведенной обработки информации можно сделать следующий вывод:\n",
        "- в объявлениях преобладает недвижимость с общей площадью до 60кв.м, жилой площадью - до 30кв.м и плащадью кухни до 10кв.м.\n",
        "- в основном стоимость недвижимости до 4,5 млн.\n",
        "- 70% продаваемых объектов однокомнатные и двухкомнатные \n",
        "- 80% продаваемых объектов находятся до 10 этажа, \n",
        "- большая часть объектов находится не на первом и не на последнем этажах, в основном это 5й и 9й этажи\n",
        "- половина продаваемых объектов имеет среднюю высоту потолка 2,65м\n",
        "- большая часть объектов находится в районе центра с отдаленностью от аэропорта около 20км\n",
        "- в публикации объявлений наблюдается сезонность (спад приходится на теплый сезон, возможно это связано с периодом отпусков)\n",
        "- обычно продажа недвижимости занимает до 95 дней, продажи до 45 дней можно считать быстрыми, а свыше 230 дней - долгими\n",
        "- наибольшая зависимость стоимости объекта наблюдается с общей площадью данной недвижимости, также важно, что объекты на первом этаже самые дешевые\n",
        "- самое большое количество объявлений размещено по Санкт-Петербургу со стоимостью 115 тыс/кв.м.\n",
        "- самая низкая стоимость зафиксирована в деревне Старополье с ценой 11 тыс/кв.м.\n",
        "- самая высокая стоимость зафиксирована в городе Зеленогорск с ценой 115 тыс/кв.м.\n",
        "- стоимость объектов зависит от расстояния от центра, чем ближе объект недвижимости находится к центру, тем дороже его стоимость"
      ],
      "metadata": {
        "id": "WvPQn48wAV4F"
      }
    },
    {
      "cell_type": "markdown",
      "source": [
        "**Краткое описание шагов исследования**\n",
        "\n",
        "    \n",
        "Шаг 1. Загрузка данных и подготовка их к анализу\n",
        "\n",
        "- Открыт и изучен файл с данными \n",
        "\n",
        "- Предобработка данных:\n",
        "- найдены и изучены пропущенные значения в столбцах:\n",
        "- исправлены типы данных в столбцах\n",
        "- найдены уникальные значения в столбце с названиями и устранены неявные дубликаты\n",
        "- найдены и устранены редкие и выбивающиеся значения. Например, в столбце ceiling_height была указана высота потолков 25 м и 32 м. \n",
        "- Добавлены в таблицу новые столбцы со следующими параметрами:\n",
        "- цена одного квадратного метра;\n",
        "- день недели публикации объявления;\n",
        "- месяц публикации объявления;\n",
        "- год публикации объявления;\n",
        "- тип этажа квартиры;\n",
        "- расстояние до центра города в километрах.\n",
        "    \n",
        "Шаг 2. Проведен исследовательский анализ данных. \n",
        "\n",
        "- Были изучены следующие параметры объектов:\n",
        "- общая площадь;\n",
        "- жилая площадь;\n",
        "- площадь кухни;\n",
        "- цена объекта;\n",
        "- количество комнат;\n",
        "- высота потолков;\n",
        "- этаж квартиры;\n",
        "- тип этажа квартиры;\n",
        "- общее количество этажей в доме;\n",
        "- расстояние до центра города в метрах;\n",
        "- расстояние до ближайшего аэропорта;\n",
        "- расстояние до ближайшего парка;\n",
        "- день и месяц публикации объявления.\n",
        "- построены отдельные гистограммы для каждого из этих параметров. \n",
        "\n",
        "- Изучены зависимость цены от:\n",
        "- общей площади;\n",
        "- жилой площади;\n",
        "- площади кухни;\n",
        "- количества комнат;\n",
        "- этажа, на котором расположена квартира (первый, последний, другой);\n",
        "- даты размещения (день недели, месяц, год).\n",
        "- построены графики, которые покажут зависимость цены от указанных выше параметров. \n",
        "- посчитана средняя цену одного квадратного метра в 10 населённых пунктах с наибольшим числом объявлений. \n",
        "    \n",
        "    \n",
        "Шаг 3. Вывод"
      ],
      "metadata": {
        "id": "dmROtgnKAajk"
      }
    },
    {
      "cell_type": "code",
      "source": [],
      "metadata": {
        "id": "fMcE81LxAJCk"
      },
      "execution_count": null,
      "outputs": []
    }
  ]
}